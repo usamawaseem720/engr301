{
 "cells": [
  {
   "cell_type": "markdown",
   "id": "1c649152",
   "metadata": {},
   "source": [
    "# Part 1 - Exploratory Data Analysis and Baseline Model"
   ]
  },
  {
   "cell_type": "code",
   "execution_count": 2,
   "id": "a91f741b",
   "metadata": {},
   "outputs": [],
   "source": [
    "#1. Import Packages\n",
    "\n",
    "import pandas as pd\n",
    "import numpy as np\n",
    "import matplotlib.pyplot as plt\n",
    "import seaborn as sns\n",
    "import scipy.stats as stats\n",
    "%matplotlib inline\n",
    "\n",
    "from sklearn.model_selection import train_test_split\n",
    "from sklearn.preprocessing import MinMaxScaler\n",
    "from sklearn.linear_model import LinearRegression\n",
    "from sklearn.metrics import r2_score\n",
    "from sklearn.preprocessing import StandardScaler\n",
    "from sklearn.linear_model import LogisticRegression\n",
    "from sklearn import metrics\n",
    "from sklearn.naive_bayes import GaussianNB"
   ]
  },
  {
   "cell_type": "code",
   "execution_count": 3,
   "id": "210cbb4a",
   "metadata": {},
   "outputs": [],
   "source": [
    "#2. Create two dataframes for the training and testing data.\n",
    "\n",
    "dfTest = pd.read_csv(\"genes_test.csv\")\n",
    "dfTrain = pd.read_csv(\"genes_train.csv\")"
   ]
  },
  {
   "cell_type": "code",
   "execution_count": 4,
   "id": "f628b250",
   "metadata": {},
   "outputs": [
    {
     "data": {
      "text/html": [
       "<div>\n",
       "<style scoped>\n",
       "    .dataframe tbody tr th:only-of-type {\n",
       "        vertical-align: middle;\n",
       "    }\n",
       "\n",
       "    .dataframe tbody tr th {\n",
       "        vertical-align: top;\n",
       "    }\n",
       "\n",
       "    .dataframe thead th {\n",
       "        text-align: right;\n",
       "    }\n",
       "</style>\n",
       "<table border=\"1\" class=\"dataframe\">\n",
       "  <thead>\n",
       "    <tr style=\"text-align: right;\">\n",
       "      <th></th>\n",
       "      <th>AFFX-BioB-5_at (endogenous control)</th>\n",
       "      <th>AFFX-BioB-M_at (endogenous control)</th>\n",
       "      <th>AFFX-BioB-3_at (endogenous control)</th>\n",
       "      <th>AFFX-BioC-5_at (endogenous control)</th>\n",
       "      <th>AFFX-BioC-3_at (endogenous control)</th>\n",
       "      <th>AFFX-BioDn-5_at (endogenous control)</th>\n",
       "      <th>AFFX-BioDn-3_at (endogenous control)</th>\n",
       "      <th>AFFX-CreX-5_at (endogenous control)</th>\n",
       "      <th>AFFX-CreX-3_at (endogenous control)</th>\n",
       "      <th>AFFX-BioB-5_st (endogenous control)</th>\n",
       "      <th>...</th>\n",
       "      <th>GB DEF = Calcium/calmodulin-dependent protein kinase II delta E mRNA; partial cds</th>\n",
       "      <th>TUBULIN ALPHA-4 CHAIN</th>\n",
       "      <th>CYP4B1 Cytochrome P450; subfamily IVB; polypeptide 1</th>\n",
       "      <th>PTGER3 Prostaglandin E receptor 3 (subtype EP3) {alternative products}.2</th>\n",
       "      <th>HMG2 High-mobility group (nonhistone chromosomal) protein 2.1</th>\n",
       "      <th>RB1 Retinoblastoma 1 (including osteosarcoma).1</th>\n",
       "      <th>GB DEF = Glycophorin Sta (type A) exons 3 and 4; partial</th>\n",
       "      <th>GB DEF = mRNA (clone 1A7)</th>\n",
       "      <th>patient</th>\n",
       "      <th>cancer type</th>\n",
       "    </tr>\n",
       "  </thead>\n",
       "  <tbody>\n",
       "    <tr>\n",
       "      <th>0</th>\n",
       "      <td>-214</td>\n",
       "      <td>-153</td>\n",
       "      <td>-58</td>\n",
       "      <td>88</td>\n",
       "      <td>-295</td>\n",
       "      <td>-558</td>\n",
       "      <td>199</td>\n",
       "      <td>-176</td>\n",
       "      <td>252</td>\n",
       "      <td>206</td>\n",
       "      <td>...</td>\n",
       "      <td>-125</td>\n",
       "      <td>389</td>\n",
       "      <td>-37</td>\n",
       "      <td>793</td>\n",
       "      <td>329</td>\n",
       "      <td>36</td>\n",
       "      <td>191</td>\n",
       "      <td>-37</td>\n",
       "      <td>1</td>\n",
       "      <td>ALL</td>\n",
       "    </tr>\n",
       "    <tr>\n",
       "      <th>1</th>\n",
       "      <td>-139</td>\n",
       "      <td>-73</td>\n",
       "      <td>-1</td>\n",
       "      <td>283</td>\n",
       "      <td>-264</td>\n",
       "      <td>-400</td>\n",
       "      <td>-330</td>\n",
       "      <td>-168</td>\n",
       "      <td>101</td>\n",
       "      <td>74</td>\n",
       "      <td>...</td>\n",
       "      <td>-36</td>\n",
       "      <td>442</td>\n",
       "      <td>-17</td>\n",
       "      <td>782</td>\n",
       "      <td>295</td>\n",
       "      <td>11</td>\n",
       "      <td>76</td>\n",
       "      <td>-14</td>\n",
       "      <td>2</td>\n",
       "      <td>ALL</td>\n",
       "    </tr>\n",
       "    <tr>\n",
       "      <th>2</th>\n",
       "      <td>-76</td>\n",
       "      <td>-49</td>\n",
       "      <td>-307</td>\n",
       "      <td>309</td>\n",
       "      <td>-376</td>\n",
       "      <td>-650</td>\n",
       "      <td>33</td>\n",
       "      <td>-367</td>\n",
       "      <td>206</td>\n",
       "      <td>-215</td>\n",
       "      <td>...</td>\n",
       "      <td>33</td>\n",
       "      <td>168</td>\n",
       "      <td>52</td>\n",
       "      <td>1138</td>\n",
       "      <td>777</td>\n",
       "      <td>41</td>\n",
       "      <td>228</td>\n",
       "      <td>-41</td>\n",
       "      <td>3</td>\n",
       "      <td>ALL</td>\n",
       "    </tr>\n",
       "    <tr>\n",
       "      <th>3</th>\n",
       "      <td>-135</td>\n",
       "      <td>-114</td>\n",
       "      <td>265</td>\n",
       "      <td>12</td>\n",
       "      <td>-419</td>\n",
       "      <td>-585</td>\n",
       "      <td>158</td>\n",
       "      <td>-253</td>\n",
       "      <td>49</td>\n",
       "      <td>31</td>\n",
       "      <td>...</td>\n",
       "      <td>218</td>\n",
       "      <td>174</td>\n",
       "      <td>-110</td>\n",
       "      <td>627</td>\n",
       "      <td>170</td>\n",
       "      <td>-50</td>\n",
       "      <td>126</td>\n",
       "      <td>-91</td>\n",
       "      <td>4</td>\n",
       "      <td>ALL</td>\n",
       "    </tr>\n",
       "    <tr>\n",
       "      <th>4</th>\n",
       "      <td>-106</td>\n",
       "      <td>-125</td>\n",
       "      <td>-76</td>\n",
       "      <td>168</td>\n",
       "      <td>-230</td>\n",
       "      <td>-284</td>\n",
       "      <td>4</td>\n",
       "      <td>-122</td>\n",
       "      <td>70</td>\n",
       "      <td>252</td>\n",
       "      <td>...</td>\n",
       "      <td>57</td>\n",
       "      <td>504</td>\n",
       "      <td>-26</td>\n",
       "      <td>250</td>\n",
       "      <td>314</td>\n",
       "      <td>14</td>\n",
       "      <td>56</td>\n",
       "      <td>-25</td>\n",
       "      <td>5</td>\n",
       "      <td>ALL</td>\n",
       "    </tr>\n",
       "  </tbody>\n",
       "</table>\n",
       "<p>5 rows × 7131 columns</p>\n",
       "</div>"
      ],
      "text/plain": [
       "   AFFX-BioB-5_at (endogenous control)  AFFX-BioB-M_at (endogenous control)  \\\n",
       "0                                 -214                                 -153   \n",
       "1                                 -139                                  -73   \n",
       "2                                  -76                                  -49   \n",
       "3                                 -135                                 -114   \n",
       "4                                 -106                                 -125   \n",
       "\n",
       "   AFFX-BioB-3_at (endogenous control)  AFFX-BioC-5_at (endogenous control)  \\\n",
       "0                                  -58                                   88   \n",
       "1                                   -1                                  283   \n",
       "2                                 -307                                  309   \n",
       "3                                  265                                   12   \n",
       "4                                  -76                                  168   \n",
       "\n",
       "   AFFX-BioC-3_at (endogenous control)  AFFX-BioDn-5_at (endogenous control)  \\\n",
       "0                                 -295                                  -558   \n",
       "1                                 -264                                  -400   \n",
       "2                                 -376                                  -650   \n",
       "3                                 -419                                  -585   \n",
       "4                                 -230                                  -284   \n",
       "\n",
       "   AFFX-BioDn-3_at (endogenous control)  AFFX-CreX-5_at (endogenous control)  \\\n",
       "0                                   199                                 -176   \n",
       "1                                  -330                                 -168   \n",
       "2                                    33                                 -367   \n",
       "3                                   158                                 -253   \n",
       "4                                     4                                 -122   \n",
       "\n",
       "   AFFX-CreX-3_at (endogenous control)  AFFX-BioB-5_st (endogenous control)  \\\n",
       "0                                  252                                  206   \n",
       "1                                  101                                   74   \n",
       "2                                  206                                 -215   \n",
       "3                                   49                                   31   \n",
       "4                                   70                                  252   \n",
       "\n",
       "   ...  \\\n",
       "0  ...   \n",
       "1  ...   \n",
       "2  ...   \n",
       "3  ...   \n",
       "4  ...   \n",
       "\n",
       "   GB DEF = Calcium/calmodulin-dependent protein kinase II delta E mRNA; partial cds  \\\n",
       "0                                               -125                                   \n",
       "1                                                -36                                   \n",
       "2                                                 33                                   \n",
       "3                                                218                                   \n",
       "4                                                 57                                   \n",
       "\n",
       "   TUBULIN ALPHA-4 CHAIN  \\\n",
       "0                    389   \n",
       "1                    442   \n",
       "2                    168   \n",
       "3                    174   \n",
       "4                    504   \n",
       "\n",
       "   CYP4B1 Cytochrome P450; subfamily IVB; polypeptide 1  \\\n",
       "0                                                -37      \n",
       "1                                                -17      \n",
       "2                                                 52      \n",
       "3                                               -110      \n",
       "4                                                -26      \n",
       "\n",
       "   PTGER3 Prostaglandin E receptor 3 (subtype EP3) {alternative products}.2  \\\n",
       "0                                                793                          \n",
       "1                                                782                          \n",
       "2                                               1138                          \n",
       "3                                                627                          \n",
       "4                                                250                          \n",
       "\n",
       "   HMG2 High-mobility group (nonhistone chromosomal) protein 2.1  \\\n",
       "0                                                329               \n",
       "1                                                295               \n",
       "2                                                777               \n",
       "3                                                170               \n",
       "4                                                314               \n",
       "\n",
       "   RB1 Retinoblastoma 1 (including osteosarcoma).1  \\\n",
       "0                                               36   \n",
       "1                                               11   \n",
       "2                                               41   \n",
       "3                                              -50   \n",
       "4                                               14   \n",
       "\n",
       "   GB DEF = Glycophorin Sta (type A) exons 3 and 4; partial  \\\n",
       "0                                                191          \n",
       "1                                                 76          \n",
       "2                                                228          \n",
       "3                                                126          \n",
       "4                                                 56          \n",
       "\n",
       "   GB DEF = mRNA (clone 1A7)  patient  cancer type  \n",
       "0                        -37        1          ALL  \n",
       "1                        -14        2          ALL  \n",
       "2                        -41        3          ALL  \n",
       "3                        -91        4          ALL  \n",
       "4                        -25        5          ALL  \n",
       "\n",
       "[5 rows x 7131 columns]"
      ]
     },
     "execution_count": 4,
     "metadata": {},
     "output_type": "execute_result"
    }
   ],
   "source": [
    "dfTrain.head()"
   ]
  },
  {
   "cell_type": "code",
   "execution_count": 5,
   "id": "5c55d4cb",
   "metadata": {},
   "outputs": [
    {
     "data": {
      "text/html": [
       "<div>\n",
       "<style scoped>\n",
       "    .dataframe tbody tr th:only-of-type {\n",
       "        vertical-align: middle;\n",
       "    }\n",
       "\n",
       "    .dataframe tbody tr th {\n",
       "        vertical-align: top;\n",
       "    }\n",
       "\n",
       "    .dataframe thead th {\n",
       "        text-align: right;\n",
       "    }\n",
       "</style>\n",
       "<table border=\"1\" class=\"dataframe\">\n",
       "  <thead>\n",
       "    <tr style=\"text-align: right;\">\n",
       "      <th></th>\n",
       "      <th>AFFX-BioB-5_at (endogenous control)</th>\n",
       "      <th>AFFX-BioB-M_at (endogenous control)</th>\n",
       "      <th>AFFX-BioB-3_at (endogenous control)</th>\n",
       "      <th>AFFX-BioC-5_at (endogenous control)</th>\n",
       "      <th>AFFX-BioC-3_at (endogenous control)</th>\n",
       "      <th>AFFX-BioDn-5_at (endogenous control)</th>\n",
       "      <th>AFFX-BioDn-3_at (endogenous control)</th>\n",
       "      <th>AFFX-CreX-5_at (endogenous control)</th>\n",
       "      <th>AFFX-CreX-3_at (endogenous control)</th>\n",
       "      <th>AFFX-BioB-5_st (endogenous control)</th>\n",
       "      <th>...</th>\n",
       "      <th>GB DEF = Calcium/calmodulin-dependent protein kinase II delta E mRNA; partial cds</th>\n",
       "      <th>TUBULIN ALPHA-4 CHAIN</th>\n",
       "      <th>CYP4B1 Cytochrome P450; subfamily IVB; polypeptide 1</th>\n",
       "      <th>PTGER3 Prostaglandin E receptor 3 (subtype EP3) {alternative products}.2</th>\n",
       "      <th>HMG2 High-mobility group (nonhistone chromosomal) protein 2.1</th>\n",
       "      <th>RB1 Retinoblastoma 1 (including osteosarcoma).1</th>\n",
       "      <th>GB DEF = Glycophorin Sta (type A) exons 3 and 4; partial</th>\n",
       "      <th>GB DEF = mRNA (clone 1A7)</th>\n",
       "      <th>patient</th>\n",
       "      <th>cancer type</th>\n",
       "    </tr>\n",
       "  </thead>\n",
       "  <tbody>\n",
       "    <tr>\n",
       "      <th>0</th>\n",
       "      <td>-62</td>\n",
       "      <td>-23</td>\n",
       "      <td>-7</td>\n",
       "      <td>142</td>\n",
       "      <td>-233</td>\n",
       "      <td>-284</td>\n",
       "      <td>-167</td>\n",
       "      <td>-97</td>\n",
       "      <td>-12</td>\n",
       "      <td>-70</td>\n",
       "      <td>...</td>\n",
       "      <td>46</td>\n",
       "      <td>104</td>\n",
       "      <td>15</td>\n",
       "      <td>245</td>\n",
       "      <td>164</td>\n",
       "      <td>84</td>\n",
       "      <td>100</td>\n",
       "      <td>-18</td>\n",
       "      <td>41</td>\n",
       "      <td>ALL</td>\n",
       "    </tr>\n",
       "    <tr>\n",
       "      <th>1</th>\n",
       "      <td>22</td>\n",
       "      <td>-153</td>\n",
       "      <td>17</td>\n",
       "      <td>276</td>\n",
       "      <td>-211</td>\n",
       "      <td>-250</td>\n",
       "      <td>55</td>\n",
       "      <td>-141</td>\n",
       "      <td>0</td>\n",
       "      <td>500</td>\n",
       "      <td>...</td>\n",
       "      <td>16</td>\n",
       "      <td>558</td>\n",
       "      <td>24</td>\n",
       "      <td>893</td>\n",
       "      <td>297</td>\n",
       "      <td>6</td>\n",
       "      <td>1971</td>\n",
       "      <td>-42</td>\n",
       "      <td>42</td>\n",
       "      <td>ALL</td>\n",
       "    </tr>\n",
       "    <tr>\n",
       "      <th>2</th>\n",
       "      <td>86</td>\n",
       "      <td>-36</td>\n",
       "      <td>-141</td>\n",
       "      <td>252</td>\n",
       "      <td>-201</td>\n",
       "      <td>-384</td>\n",
       "      <td>-420</td>\n",
       "      <td>-197</td>\n",
       "      <td>-60</td>\n",
       "      <td>-468</td>\n",
       "      <td>...</td>\n",
       "      <td>-84</td>\n",
       "      <td>615</td>\n",
       "      <td>-52</td>\n",
       "      <td>1235</td>\n",
       "      <td>9</td>\n",
       "      <td>7</td>\n",
       "      <td>1545</td>\n",
       "      <td>-81</td>\n",
       "      <td>43</td>\n",
       "      <td>ALL</td>\n",
       "    </tr>\n",
       "    <tr>\n",
       "      <th>3</th>\n",
       "      <td>-146</td>\n",
       "      <td>-74</td>\n",
       "      <td>170</td>\n",
       "      <td>174</td>\n",
       "      <td>-32</td>\n",
       "      <td>-318</td>\n",
       "      <td>8</td>\n",
       "      <td>-152</td>\n",
       "      <td>-148</td>\n",
       "      <td>17</td>\n",
       "      <td>...</td>\n",
       "      <td>-142</td>\n",
       "      <td>249</td>\n",
       "      <td>-220</td>\n",
       "      <td>354</td>\n",
       "      <td>-42</td>\n",
       "      <td>-100</td>\n",
       "      <td>45</td>\n",
       "      <td>-108</td>\n",
       "      <td>44</td>\n",
       "      <td>ALL</td>\n",
       "    </tr>\n",
       "    <tr>\n",
       "      <th>4</th>\n",
       "      <td>-187</td>\n",
       "      <td>-187</td>\n",
       "      <td>312</td>\n",
       "      <td>142</td>\n",
       "      <td>114</td>\n",
       "      <td>-148</td>\n",
       "      <td>-184</td>\n",
       "      <td>-133</td>\n",
       "      <td>12</td>\n",
       "      <td>97</td>\n",
       "      <td>...</td>\n",
       "      <td>-185</td>\n",
       "      <td>13</td>\n",
       "      <td>-148</td>\n",
       "      <td>304</td>\n",
       "      <td>-1</td>\n",
       "      <td>-207</td>\n",
       "      <td>112</td>\n",
       "      <td>-190</td>\n",
       "      <td>45</td>\n",
       "      <td>ALL</td>\n",
       "    </tr>\n",
       "  </tbody>\n",
       "</table>\n",
       "<p>5 rows × 7131 columns</p>\n",
       "</div>"
      ],
      "text/plain": [
       "   AFFX-BioB-5_at (endogenous control)  AFFX-BioB-M_at (endogenous control)  \\\n",
       "0                                  -62                                  -23   \n",
       "1                                   22                                 -153   \n",
       "2                                   86                                  -36   \n",
       "3                                 -146                                  -74   \n",
       "4                                 -187                                 -187   \n",
       "\n",
       "   AFFX-BioB-3_at (endogenous control)  AFFX-BioC-5_at (endogenous control)  \\\n",
       "0                                   -7                                  142   \n",
       "1                                   17                                  276   \n",
       "2                                 -141                                  252   \n",
       "3                                  170                                  174   \n",
       "4                                  312                                  142   \n",
       "\n",
       "   AFFX-BioC-3_at (endogenous control)  AFFX-BioDn-5_at (endogenous control)  \\\n",
       "0                                 -233                                  -284   \n",
       "1                                 -211                                  -250   \n",
       "2                                 -201                                  -384   \n",
       "3                                  -32                                  -318   \n",
       "4                                  114                                  -148   \n",
       "\n",
       "   AFFX-BioDn-3_at (endogenous control)  AFFX-CreX-5_at (endogenous control)  \\\n",
       "0                                  -167                                  -97   \n",
       "1                                    55                                 -141   \n",
       "2                                  -420                                 -197   \n",
       "3                                     8                                 -152   \n",
       "4                                  -184                                 -133   \n",
       "\n",
       "   AFFX-CreX-3_at (endogenous control)  AFFX-BioB-5_st (endogenous control)  \\\n",
       "0                                  -12                                  -70   \n",
       "1                                    0                                  500   \n",
       "2                                  -60                                 -468   \n",
       "3                                 -148                                   17   \n",
       "4                                   12                                   97   \n",
       "\n",
       "   ...  \\\n",
       "0  ...   \n",
       "1  ...   \n",
       "2  ...   \n",
       "3  ...   \n",
       "4  ...   \n",
       "\n",
       "   GB DEF = Calcium/calmodulin-dependent protein kinase II delta E mRNA; partial cds  \\\n",
       "0                                                 46                                   \n",
       "1                                                 16                                   \n",
       "2                                                -84                                   \n",
       "3                                               -142                                   \n",
       "4                                               -185                                   \n",
       "\n",
       "   TUBULIN ALPHA-4 CHAIN  \\\n",
       "0                    104   \n",
       "1                    558   \n",
       "2                    615   \n",
       "3                    249   \n",
       "4                     13   \n",
       "\n",
       "   CYP4B1 Cytochrome P450; subfamily IVB; polypeptide 1  \\\n",
       "0                                                 15      \n",
       "1                                                 24      \n",
       "2                                                -52      \n",
       "3                                               -220      \n",
       "4                                               -148      \n",
       "\n",
       "   PTGER3 Prostaglandin E receptor 3 (subtype EP3) {alternative products}.2  \\\n",
       "0                                                245                          \n",
       "1                                                893                          \n",
       "2                                               1235                          \n",
       "3                                                354                          \n",
       "4                                                304                          \n",
       "\n",
       "   HMG2 High-mobility group (nonhistone chromosomal) protein 2.1  \\\n",
       "0                                                164               \n",
       "1                                                297               \n",
       "2                                                  9               \n",
       "3                                                -42               \n",
       "4                                                 -1               \n",
       "\n",
       "   RB1 Retinoblastoma 1 (including osteosarcoma).1  \\\n",
       "0                                               84   \n",
       "1                                                6   \n",
       "2                                                7   \n",
       "3                                             -100   \n",
       "4                                             -207   \n",
       "\n",
       "   GB DEF = Glycophorin Sta (type A) exons 3 and 4; partial  \\\n",
       "0                                                100          \n",
       "1                                               1971          \n",
       "2                                               1545          \n",
       "3                                                 45          \n",
       "4                                                112          \n",
       "\n",
       "   GB DEF = mRNA (clone 1A7)  patient  cancer type  \n",
       "0                        -18       41          ALL  \n",
       "1                        -42       42          ALL  \n",
       "2                        -81       43          ALL  \n",
       "3                       -108       44          ALL  \n",
       "4                       -190       45          ALL  \n",
       "\n",
       "[5 rows x 7131 columns]"
      ]
     },
     "execution_count": 5,
     "metadata": {},
     "output_type": "execute_result"
    }
   ],
   "source": [
    "dfTest.head()"
   ]
  },
  {
   "cell_type": "code",
   "execution_count": 6,
   "id": "8ec36555",
   "metadata": {},
   "outputs": [
    {
     "data": {
      "text/plain": [
       "(40, 7131)"
      ]
     },
     "execution_count": 6,
     "metadata": {},
     "output_type": "execute_result"
    }
   ],
   "source": [
    "#3. Shape of the training data\n",
    "\n",
    "dfTrain.shape\n",
    "\n",
    "# It looks a little unbalanced as there are only 40 measurements across 7131 features"
   ]
  },
  {
   "cell_type": "code",
   "execution_count": 7,
   "id": "701de59d",
   "metadata": {},
   "outputs": [
    {
     "data": {
      "text/plain": [
       "ALL    29\n",
       "AML    11\n",
       "Name: cancer type, dtype: int64"
      ]
     },
     "execution_count": 7,
     "metadata": {},
     "output_type": "execute_result"
    }
   ],
   "source": [
    "#4. Number of patients with ALL and AML in the training data\n",
    "\n",
    "# dfTrain.groupby(\"patient\")[\"cancer type\"].value_counts()\n",
    "dfTrain[\"cancer type\"].value_counts()\n",
    "\n",
    "# This feature can be considered unbalanced as ALL has twice as many data points than AML."
   ]
  },
  {
   "cell_type": "code",
   "execution_count": 8,
   "id": "bb2e3ceb",
   "metadata": {},
   "outputs": [
    {
     "name": "stderr",
     "output_type": "stream",
     "text": [
      "C:\\Users\\Usama\\AppData\\Local\\Temp\\ipykernel_15628\\1984984003.py:2: FutureWarning: Dropping of nuisance columns in DataFrame reductions (with 'numeric_only=None') is deprecated; in a future version this will raise TypeError.  Select only valid columns before calling the reduction.\n",
      "  dfTrain.max(axis=1)\n"
     ]
    },
    {
     "data": {
      "text/plain": [
       "0     31086\n",
       "1     29288\n",
       "2     28056\n",
       "3     31449\n",
       "4     29543\n",
       "5     38467\n",
       "6     41911\n",
       "7     40065\n",
       "8     23602\n",
       "9     28033\n",
       "10    25966\n",
       "11    30546\n",
       "12    30797\n",
       "13    28519\n",
       "14    30256\n",
       "15    27268\n",
       "16    28952\n",
       "17    32645\n",
       "18    33143\n",
       "19    27358\n",
       "20    33548\n",
       "21    39558\n",
       "22    36417\n",
       "23    27983\n",
       "24    32785\n",
       "25    31614\n",
       "26    31261\n",
       "27    29833\n",
       "28    30354\n",
       "29    25055\n",
       "30    28350\n",
       "31    25093\n",
       "32    32946\n",
       "33    28698\n",
       "34    61228\n",
       "35    37164\n",
       "36    32204\n",
       "37    29169\n",
       "38    45815\n",
       "39    29136\n",
       "dtype: int64"
      ]
     },
     "execution_count": 8,
     "metadata": {},
     "output_type": "execute_result"
    }
   ],
   "source": [
    "#5. \n",
    "dfTrain.max(axis=1)"
   ]
  },
  {
   "cell_type": "code",
   "execution_count": 9,
   "id": "e72a8bda",
   "metadata": {},
   "outputs": [
    {
     "name": "stderr",
     "output_type": "stream",
     "text": [
      "C:\\Users\\Usama\\AppData\\Local\\Temp\\ipykernel_15628\\3131725800.py:1: FutureWarning: Dropping of nuisance columns in DataFrame reductions (with 'numeric_only=None') is deprecated; in a future version this will raise TypeError.  Select only valid columns before calling the reduction.\n",
      "  dfTrain.min(axis=1)\n"
     ]
    },
    {
     "data": {
      "text/plain": [
       "0    -19826\n",
       "1    -17930\n",
       "2    -27182\n",
       "3    -23396\n",
       "4    -10339\n",
       "5    -21658\n",
       "6    -24024\n",
       "7    -27570\n",
       "8    -25171\n",
       "9    -12500\n",
       "10   -17480\n",
       "11   -15256\n",
       "12   -12854\n",
       "13   -14937\n",
       "14   -13380\n",
       "15   -10492\n",
       "16   -19523\n",
       "17    -8692\n",
       "18   -11572\n",
       "19   -13838\n",
       "20    -7397\n",
       "21   -17179\n",
       "22   -14937\n",
       "23   -17368\n",
       "24   -17377\n",
       "25   -10652\n",
       "26   -20406\n",
       "27   -20376\n",
       "28    -9501\n",
       "29   -17580\n",
       "30   -25491\n",
       "31   -28400\n",
       "32   -27811\n",
       "33   -17310\n",
       "34   -16281\n",
       "35   -27398\n",
       "36   -23673\n",
       "37   -23645\n",
       "38   -21984\n",
       "39   -21296\n",
       "dtype: int64"
      ]
     },
     "execution_count": 9,
     "metadata": {},
     "output_type": "execute_result"
    }
   ],
   "source": [
    "dfTrain.min(axis=1)"
   ]
  },
  {
   "cell_type": "code",
   "execution_count": 10,
   "id": "d5cbfd29",
   "metadata": {},
   "outputs": [
    {
     "name": "stderr",
     "output_type": "stream",
     "text": [
      "C:\\Users\\Usama\\AppData\\Local\\Temp\\ipykernel_15628\\2242959023.py:1: FutureWarning: Dropping of nuisance columns in DataFrame reductions (with 'numeric_only=None') is deprecated; in a future version this will raise TypeError.  Select only valid columns before calling the reduction.\n",
      "  dfTrain.mean(axis=1)\n"
     ]
    },
    {
     "data": {
      "text/plain": [
       "0     641.277279\n",
       "1     690.149790\n",
       "2     698.210379\n",
       "3     600.901543\n",
       "4     679.438289\n",
       "5     564.719355\n",
       "6     584.356662\n",
       "7     571.280084\n",
       "8     789.604208\n",
       "9     599.400421\n",
       "10    632.166760\n",
       "11    492.532819\n",
       "12    674.563815\n",
       "13    648.522581\n",
       "14    705.682188\n",
       "15    624.492847\n",
       "16    791.292987\n",
       "17    557.489902\n",
       "18    558.555820\n",
       "19    954.292006\n",
       "20    577.572230\n",
       "21    524.687798\n",
       "22    532.180926\n",
       "23    662.077279\n",
       "24    597.783450\n",
       "25    603.232398\n",
       "26    501.277279\n",
       "27    673.188920\n",
       "28    556.389201\n",
       "29    718.837868\n",
       "30    598.569285\n",
       "31    676.830435\n",
       "32    723.466620\n",
       "33    618.776578\n",
       "34    514.429453\n",
       "35    775.039832\n",
       "36    689.156662\n",
       "37    626.803366\n",
       "38    582.118794\n",
       "39    527.750912\n",
       "dtype: float64"
      ]
     },
     "execution_count": 10,
     "metadata": {},
     "output_type": "execute_result"
    }
   ],
   "source": [
    "dfTrain.mean(axis=1)"
   ]
  },
  {
   "cell_type": "code",
   "execution_count": 11,
   "id": "d61dda27",
   "metadata": {},
   "outputs": [],
   "source": [
    "# The max, min, and mean are all far apart given for all patients, so we will need to scale them. \n",
    "# It is a problem as the data points in the dataframe wlll be unbalanced and a wide variance will occur."
   ]
  },
  {
   "cell_type": "code",
   "execution_count": 12,
   "id": "780336ce",
   "metadata": {},
   "outputs": [],
   "source": [
    "#6.\n",
    "x_train = dfTrain.drop([\"cancer type\", \"patient\"], axis = 1)\n",
    "y_train = dfTrain[\"cancer type\"]\n",
    "x_test = dfTest.drop([\"cancer type\", \"patient\"], axis = 1) \n",
    "y_test = dfTest[\"cancer type\"]\n",
    "\n",
    "# The two columns being dropped are \"cancer type\" and patient as \"cancer type\" will be predicted and \"patient\"'s data is just increasing by one, so it will not have any significant power when predicting."
   ]
  },
  {
   "cell_type": "code",
   "execution_count": 13,
   "id": "25475155",
   "metadata": {},
   "outputs": [],
   "source": [
    "#7a. Scale x_train and x_test separately \n",
    "\n",
    "scaler = StandardScaler()\n",
    "\n",
    "x_train_scaled = scaler.fit_transform(x_train)\n",
    "x_test_scaled = scaler.transform(x_test)"
   ]
  },
  {
   "cell_type": "code",
   "execution_count": 14,
   "id": "ea70f0da",
   "metadata": {},
   "outputs": [
    {
     "name": "stdout",
     "output_type": "stream",
     "text": [
      "1.0\n",
      "Accuracy:  0.8125\n",
      "[[18  0]\n",
      " [ 6  8]]\n"
     ]
    }
   ],
   "source": [
    "#7b.Build a Logistics Model\n",
    "model = LogisticRegression()\n",
    "\n",
    "model.fit(x_train_scaled, y_train)\n",
    "\n",
    "y_pred = model.predict(x_test_scaled)\n",
    "\n",
    "print(model.score(x_train_scaled, y_train))\n",
    "print(\"Accuracy: \", metrics.accuracy_score(y_test, y_pred))\n",
    "cm = metrics.confusion_matrix(y_test, y_pred)\n",
    "print(cm)"
   ]
  },
  {
   "cell_type": "code",
   "execution_count": 15,
   "id": "a75de461",
   "metadata": {},
   "outputs": [
    {
     "name": "stdout",
     "output_type": "stream",
     "text": [
      "1.0\n",
      "Accuarcy:  0.90625\n",
      "[[16  2]\n",
      " [ 1 13]]\n"
     ]
    }
   ],
   "source": [
    "#7c. Gaussian Naive Bayes\n",
    "model = GaussianNB()\n",
    "\n",
    "model.fit(x_train_scaled, y_train)\n",
    "\n",
    "y_pred = model.predict(x_test_scaled)\n",
    "\n",
    "print(model.score(x_train_scaled, y_train))\n",
    "print(\"Accuarcy: \", metrics.accuracy_score(y_test, y_pred))\n",
    "cm = metrics.confusion_matrix(y_test, y_pred)\n",
    "print(cm)"
   ]
  },
  {
   "cell_type": "code",
   "execution_count": 16,
   "id": "433f6c61",
   "metadata": {},
   "outputs": [],
   "source": [
    "#7d. Low scores?\n",
    "\n",
    "# The scores are lower due to model being incorrectly fitted without taking the variance, mean, and standard deviation of all patients into account.\n",
    "# The condusion matrix shows us that there are 6 false negatives with the logistics model and the gaussian bayes model has an additional 2 false negatives.\n",
    "# The accuracy between the two models differ, but since the gaussian model is higher, it can be assumed the confusion matrix is more reliable."
   ]
  },
  {
   "cell_type": "code",
   "execution_count": 17,
   "id": "c6133deb",
   "metadata": {},
   "outputs": [],
   "source": [
    "#8a. Scale Train by hand\n",
    "\n",
    "x_train_scaled = ((x_train - x_train.mean()) / x_train.std())"
   ]
  },
  {
   "cell_type": "code",
   "execution_count": 18,
   "id": "bedf3cf6",
   "metadata": {},
   "outputs": [],
   "source": [
    "#8b. Scale Test by hand\n",
    "\n",
    "x_test_scaled = ((x_test - x_test.mean()) / x_test.std())"
   ]
  },
  {
   "cell_type": "code",
   "execution_count": 19,
   "id": "a75ff6e2",
   "metadata": {},
   "outputs": [],
   "source": [
    "#8c. Build the Logoistic and Gaussian model again"
   ]
  },
  {
   "cell_type": "code",
   "execution_count": 20,
   "id": "e5acb0a0",
   "metadata": {},
   "outputs": [
    {
     "name": "stdout",
     "output_type": "stream",
     "text": [
      "1.0\n",
      "Accuracy:  0.75\n",
      "[[18  0]\n",
      " [ 8  6]]\n"
     ]
    }
   ],
   "source": [
    "model = LogisticRegression()\n",
    "\n",
    "model.fit(x_train_scaled, y_train)\n",
    "\n",
    "y_pred = model.predict(x_test_scaled)\n",
    "\n",
    "print(model.score(x_train_scaled, y_train))\n",
    "print(\"Accuracy: \", metrics.accuracy_score(y_test, y_pred))\n",
    "cm = metrics.confusion_matrix(y_test, y_pred)\n",
    "print(cm)"
   ]
  },
  {
   "cell_type": "code",
   "execution_count": 21,
   "id": "ae622294",
   "metadata": {},
   "outputs": [
    {
     "name": "stdout",
     "output_type": "stream",
     "text": [
      "1.0\n",
      "Accuarcy:  0.78125\n",
      "[[18  0]\n",
      " [ 7  7]]\n"
     ]
    }
   ],
   "source": [
    "model = GaussianNB()\n",
    "\n",
    "model.fit(x_train_scaled, y_train)\n",
    "\n",
    "y_pred = model.predict(x_test_scaled)\n",
    "\n",
    "print(model.score(x_train_scaled, y_train))\n",
    "print(\"Accuarcy: \", metrics.accuracy_score(y_test, y_pred))\n",
    "cm = metrics.confusion_matrix(y_test, y_pred)\n",
    "print(cm)"
   ]
  },
  {
   "cell_type": "code",
   "execution_count": 22,
   "id": "b33a6737",
   "metadata": {},
   "outputs": [],
   "source": [
    "# The performance did not improve across for both models. \n",
    "# Accuracy went down for both models which affected the confusion matrix as well.\n",
    "# The model score remained the same. \n",
    "# This did not improve performance as there may have been too much of a difference between the max and minimum values for each patient leading to an inaccurate model."
   ]
  },
  {
   "cell_type": "markdown",
   "id": "b13469f8",
   "metadata": {},
   "source": [
    "# Part 2 - Feature Reduction Using Principal Component Analysis"
   ]
  },
  {
   "cell_type": "code",
   "execution_count": 23,
   "id": "e897fa62",
   "metadata": {},
   "outputs": [],
   "source": [
    "#1a. \n",
    "from sklearn.decomposition import PCA\n",
    "\n",
    "pca = PCA(n_components = 15).fit(x_train_scaled)"
   ]
  },
  {
   "cell_type": "code",
   "execution_count": 24,
   "id": "b4f5f547",
   "metadata": {},
   "outputs": [
    {
     "data": {
      "text/plain": [
       "array([0.14160178, 0.25887229, 0.32470763, 0.37114101, 0.41593427,\n",
       "       0.45376638, 0.49028049, 0.52255107, 0.55258915, 0.57866176,\n",
       "       0.60321984, 0.62575867, 0.64747698, 0.66831497, 0.68807831])"
      ]
     },
     "execution_count": 24,
     "metadata": {},
     "output_type": "execute_result"
    }
   ],
   "source": [
    "#1b.\n",
    "pca.explained_variance_ratio_.cumsum()"
   ]
  },
  {
   "cell_type": "code",
   "execution_count": 26,
   "id": "f27ed674",
   "metadata": {},
   "outputs": [
    {
     "data": {
      "text/plain": [
       "array([0.14160178, 0.25887229, 0.32470765, 0.37114267, 0.41593648,\n",
       "       0.45377102, 0.49028881, 0.52256425, 0.55262392, 0.57871405,\n",
       "       0.60330591, 0.6260086 , 0.64798126, 0.66890239, 0.68890652,\n",
       "       0.70782766, 0.72573446, 0.742954  , 0.75982449, 0.77565151,\n",
       "       0.79116714, 0.80607457, 0.82029185, 0.83427815, 0.84786093])"
      ]
     },
     "execution_count": 26,
     "metadata": {},
     "output_type": "execute_result"
    }
   ],
   "source": [
    "pca = PCA(n_components = 25).fit(x_train_scaled)\n",
    "pca.explained_variance_ratio_.cumsum()"
   ]
  },
  {
   "cell_type": "code",
   "execution_count": 27,
   "id": "69389fc8",
   "metadata": {},
   "outputs": [
    {
     "data": {
      "text/plain": [
       "array([0.14160178, 0.25887229, 0.32470765, 0.37114269, 0.41593652,\n",
       "       0.45377108, 0.49028899, 0.52256446, 0.55262452, 0.57871474,\n",
       "       0.60331123, 0.62601503, 0.64798886, 0.66892235, 0.68894065,\n",
       "       0.70786795, 0.72580368, 0.74303738, 0.75991715, 0.77579443,\n",
       "       0.79135625, 0.80636007, 0.82059574, 0.83464022, 0.84827473,\n",
       "       0.86159723, 0.87466785, 0.88744908, 0.89998391, 0.91215863,\n",
       "       0.92427847, 0.93560532, 0.94637448, 0.9567996 , 0.9663936 ])"
      ]
     },
     "execution_count": 27,
     "metadata": {},
     "output_type": "execute_result"
    }
   ],
   "source": [
    "pca = PCA(n_components = 35).fit(x_train_scaled)\n",
    "pca.explained_variance_ratio_.cumsum()"
   ]
  },
  {
   "cell_type": "code",
   "execution_count": 30,
   "id": "e96fedc1",
   "metadata": {},
   "outputs": [
    {
     "data": {
      "text/plain": [
       "array([0.14160178, 0.25887229, 0.32470765, 0.37114269, 0.41593652,\n",
       "       0.45377108, 0.49028899, 0.52256446, 0.55262452, 0.57871474,\n",
       "       0.60331123, 0.62601503, 0.64798886, 0.66892235, 0.68894065,\n",
       "       0.70786795, 0.72580368, 0.74303738, 0.75991715, 0.77579443,\n",
       "       0.79135625, 0.80636007, 0.82059574, 0.83464022, 0.84827473,\n",
       "       0.86159723, 0.87466785, 0.88744908, 0.89998391, 0.91215863])"
      ]
     },
     "execution_count": 30,
     "metadata": {},
     "output_type": "execute_result"
    }
   ],
   "source": [
    "pca = PCA(n_components = 30).fit(x_train_scaled)\n",
    "pca.explained_variance_ratio_.cumsum()"
   ]
  },
  {
   "cell_type": "code",
   "execution_count": null,
   "id": "82425d70",
   "metadata": {},
   "outputs": [],
   "source": [
    "# The prinicipal components should be set to 30 in order to obtain a variance of 90%."
   ]
  },
  {
   "cell_type": "code",
   "execution_count": 31,
   "id": "a2602e10",
   "metadata": {},
   "outputs": [],
   "source": [
    "#2.\n",
    "x_train_scaledPCA = pca.transform(x_train_scaled)\n",
    "x_test_scaledPCA = pca.transform(x_test_scaled)"
   ]
  },
  {
   "cell_type": "code",
   "execution_count": 35,
   "id": "83d0bee8",
   "metadata": {},
   "outputs": [
    {
     "name": "stdout",
     "output_type": "stream",
     "text": [
      "1.0\n",
      "Accuracy:  0.75\n",
      "[[18  0]\n",
      " [ 8  6]]\n"
     ]
    }
   ],
   "source": [
    "#3.\n",
    "model = LogisticRegression()\n",
    "\n",
    "model.fit(x_train_scaledPCA, y_train)\n",
    "\n",
    "y_pred = model.predict(x_test_scaledPCA)\n",
    "\n",
    "print(model.score(x_train_scaledPCA, y_train))\n",
    "print(\"Accuracy: \", metrics.accuracy_score(y_test, y_pred))\n",
    "cm = metrics.confusion_matrix(y_test, y_pred)\n",
    "print(cm)"
   ]
  },
  {
   "cell_type": "code",
   "execution_count": 34,
   "id": "13159489",
   "metadata": {},
   "outputs": [
    {
     "name": "stdout",
     "output_type": "stream",
     "text": [
      "0.975\n",
      "Accuarcy:  0.625\n",
      "[[18  0]\n",
      " [12  2]]\n"
     ]
    }
   ],
   "source": [
    "model = GaussianNB()\n",
    "\n",
    "model.fit(x_train_scaledPCA, y_train)\n",
    "\n",
    "y_pred = model.predict(x_test_scaledPCA)\n",
    "\n",
    "print(model.score(x_train_scaledPCA, y_train))\n",
    "print(\"Accuarcy: \", metrics.accuracy_score(y_test, y_pred))\n",
    "cm = metrics.confusion_matrix(y_test, y_pred)\n",
    "print(cm)"
   ]
  },
  {
   "cell_type": "code",
   "execution_count": null,
   "id": "28722025",
   "metadata": {},
   "outputs": [],
   "source": [
    "# Even with the PCA fitting and cutting the features, our model has still seen a major decrease in accuracy and predictions. \n",
    "# The model score has also decreased indicating that PCA is not a viable option for predicing.\n",
    "# Due to number of features being cut out, it may have something to do with our model's prediction power decreasing."
   ]
  },
  {
   "cell_type": "markdown",
   "id": "89d0ce73",
   "metadata": {},
   "source": [
    "# Part 3 - Class Balancing"
   ]
  },
  {
   "cell_type": "code",
   "execution_count": 36,
   "id": "4355a7db",
   "metadata": {},
   "outputs": [
    {
     "name": "stdout",
     "output_type": "stream",
     "text": [
      "Collecting imblearn\n",
      "  Downloading imblearn-0.0-py2.py3-none-any.whl (1.9 kB)\n",
      "Collecting imbalanced-learn\n",
      "  Downloading imbalanced_learn-0.10.1-py3-none-any.whl (226 kB)\n",
      "     ------------------------------------ 226.0/226.0 kB 811.1 kB/s eta 0:00:00\n",
      "Requirement already satisfied: scipy>=1.3.2 in c:\\users\\usama\\anaconda3\\lib\\site-packages (from imbalanced-learn->imblearn) (1.9.1)\n",
      "Collecting joblib>=1.1.1\n",
      "  Downloading joblib-1.2.0-py3-none-any.whl (297 kB)\n",
      "     ------------------------------------ 298.0/298.0 kB 708.7 kB/s eta 0:00:00\n",
      "Requirement already satisfied: scikit-learn>=1.0.2 in c:\\users\\usama\\anaconda3\\lib\\site-packages (from imbalanced-learn->imblearn) (1.0.2)\n",
      "Requirement already satisfied: numpy>=1.17.3 in c:\\users\\usama\\anaconda3\\lib\\site-packages (from imbalanced-learn->imblearn) (1.21.5)\n",
      "Requirement already satisfied: threadpoolctl>=2.0.0 in c:\\users\\usama\\anaconda3\\lib\\site-packages (from imbalanced-learn->imblearn) (2.2.0)\n",
      "Installing collected packages: joblib, imbalanced-learn, imblearn\n",
      "  Attempting uninstall: joblib\n",
      "    Found existing installation: joblib 1.1.0\n",
      "    Uninstalling joblib-1.1.0:\n",
      "      Successfully uninstalled joblib-1.1.0\n",
      "Successfully installed imbalanced-learn-0.10.1 imblearn-0.0 joblib-1.2.0\n"
     ]
    }
   ],
   "source": [
    "!pip3 install imblearn"
   ]
  },
  {
   "cell_type": "code",
   "execution_count": 51,
   "id": "dd651aed",
   "metadata": {},
   "outputs": [],
   "source": [
    "from imblearn.over_sampling import SMOTE\n",
    "\n",
    "sm = SMOTE()\n",
    "\n",
    "x_train = dfTrain.drop([\"cancer type\", \"patient\"], axis = 1)\n",
    "y_train = dfTrain[\"cancer type\"]\n",
    "x_test = dfTest.drop([\"cancer type\", \"patient\"], axis = 1) \n",
    "y_test = dfTest[\"cancer type\"]\n",
    "\n",
    "x_train_scaled = ((x_train - x_train.mean()) / x_train.std())\n",
    "x_test_scaled = ((x_test - x_test.mean()) / x_test.std())\n",
    "\n",
    "x_bal_train, y_bal_train = sm.fit_resample(x_train_scaled, y_train)\n",
    "x_bal_test, y_bal_test = sm.fit_resample(x_test_scaled, y_test)"
   ]
  },
  {
   "cell_type": "code",
   "execution_count": 52,
   "id": "240ae84b",
   "metadata": {},
   "outputs": [
    {
     "name": "stderr",
     "output_type": "stream",
     "text": [
      "C:\\Users\\Usama\\anaconda3\\lib\\site-packages\\seaborn\\_decorators.py:36: FutureWarning: Pass the following variable as a keyword arg: x. From version 0.12, the only valid positional argument will be `data`, and passing other arguments without an explicit keyword will result in an error or misinterpretation.\n",
      "  warnings.warn(\n"
     ]
    },
    {
     "data": {
      "text/plain": [
       "<AxesSubplot:xlabel='cancer type', ylabel='count'>"
      ]
     },
     "execution_count": 52,
     "metadata": {},
     "output_type": "execute_result"
    },
    {
     "data": {
      "image/png": "[encoded data removed]",
      "text/plain": [
       "<Figure size 640x480 with 1 Axes>"
      ]
     },
     "metadata": {},
     "output_type": "display_data"
    }
   ],
   "source": [
    "sns.countplot(y_bal_train)"
   ]
  },
  {
   "cell_type": "code",
   "execution_count": 53,
   "id": "d71c2f06",
   "metadata": {},
   "outputs": [
    {
     "name": "stderr",
     "output_type": "stream",
     "text": [
      "C:\\Users\\Usama\\anaconda3\\lib\\site-packages\\seaborn\\_decorators.py:36: FutureWarning: Pass the following variable as a keyword arg: x. From version 0.12, the only valid positional argument will be `data`, and passing other arguments without an explicit keyword will result in an error or misinterpretation.\n",
      "  warnings.warn(\n"
     ]
    },
    {
     "data": {
      "text/plain": [
       "<AxesSubplot:xlabel='cancer type', ylabel='count'>"
      ]
     },
     "execution_count": 53,
     "metadata": {},
     "output_type": "execute_result"
    },
    {
     "data": {
      "image/png": "[encoded data removed]",
      "text/plain": [
       "<Figure size 640x480 with 1 Axes>"
      ]
     },
     "metadata": {},
     "output_type": "display_data"
    }
   ],
   "source": [
    "sns.countplot(y_bal_test)"
   ]
  },
  {
   "cell_type": "code",
   "execution_count": 56,
   "id": "bb807192",
   "metadata": {},
   "outputs": [
    {
     "name": "stdout",
     "output_type": "stream",
     "text": [
      "1.0\n",
      "Accuracy:  0.75\n",
      "[[18  0]\n",
      " [ 9  9]]\n"
     ]
    }
   ],
   "source": [
    "model = LogisticRegression()\n",
    "\n",
    "model.fit(x_bal_train, y_bal_train)\n",
    "\n",
    "y_pred = model.predict(x_bal_test)\n",
    "\n",
    "print(model.score(x_bal_train, y_bal_train))\n",
    "print(\"Accuracy: \", metrics.accuracy_score(y_bal_test, y_pred))\n",
    "cm = metrics.confusion_matrix(y_bal_test, y_pred)\n",
    "print(cm)"
   ]
  },
  {
   "cell_type": "code",
   "execution_count": 57,
   "id": "0f55c808",
   "metadata": {},
   "outputs": [
    {
     "name": "stdout",
     "output_type": "stream",
     "text": [
      "1.0\n",
      "Accuracy:  0.75\n",
      "[[18  0]\n",
      " [ 9  9]]\n"
     ]
    }
   ],
   "source": [
    "model = GaussianNB()\n",
    "\n",
    "model.fit(x_bal_train, y_bal_train)\n",
    "\n",
    "y_pred = model.predict(x_bal_test)\n",
    "\n",
    "print(model.score(x_bal_train, y_bal_train))\n",
    "print(\"Accuracy: \", metrics.accuracy_score(y_bal_test, y_pred))\n",
    "cm = metrics.confusion_matrix(y_bal_test, y_pred)\n",
    "print(cm)"
   ]
  },
  {
   "cell_type": "code",
   "execution_count": 58,
   "id": "fde783e0",
   "metadata": {},
   "outputs": [],
   "source": [
    "# These are slightly better than using PCA, but yield lower accuracies than our original standardScaling.\n",
    "# I don't beieve this should be the case, as I may have done something wrong in terms of inputting the data.\n",
    "# The Gaussian Naive Bayer with a balanced fit should yield the highest as the dataset should now be balanced for both features and data points as well. \n",
    "# The results of both models are the same, but it is inconclusive to determine that these may be our most accurate models due to user error."
   ]
  },
  {
   "cell_type": "markdown",
   "id": "73fc8d6c",
   "metadata": {},
   "source": [
    "\n",
    "# Part 4 - Summarizing"
   ]
  },
  {
   "cell_type": "code",
   "execution_count": 59,
   "id": "4aa41d61",
   "metadata": {},
   "outputs": [],
   "source": [
    "# If I were to build a new model, I would use a Gaussian Naive Bayer model since it has the highest accuracy even with standard scaling.\n",
    "# The balanced fitting should be the best in theory, but the results of this lab showed that it was not the case.\n",
    "# I would not use PCA as it yielded the least reliable results and lowest accuracies. "
   ]
  }
 ],
 "metadata": {
  "kernelspec": {
   "display_name": "Python 3 (ipykernel)",
   "language": "python",
   "name": "python3"
  },
  "language_info": {
   "codemirror_mode": {
    "name": "ipython",
    "version": 3
   },
   "file_extension": ".py",
   "mimetype": "text/x-python",
   "name": "python",
   "nbconvert_exporter": "python",
   "pygments_lexer": "ipython3",
   "version": "3.9.13"
  }
 },
 "nbformat": 4,
 "nbformat_minor": 5
}
