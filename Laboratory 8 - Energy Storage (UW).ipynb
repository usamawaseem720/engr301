{
 "cells": [
  {
   "cell_type": "markdown",
   "id": "dadfa22a",
   "metadata": {},
   "source": [
    "# Part 1 - Exploratory Data Analysis and Preparation"
   ]
  },
  {
   "cell_type": "code",
   "execution_count": 1,
   "id": "37288c42",
   "metadata": {},
   "outputs": [],
   "source": [
    "#1. Import Packages\n",
    "import numpy as np\n",
    "import pandas as pd\n",
    "import matplotlib.pyplot as plt\n",
    "import seaborn as sns\n",
    "import scipy.stats as stats\n",
    "%matplotlib inline\n",
    "\n",
    "from sklearn.model_selection import train_test_split\n",
    "from sklearn.preprocessing import MinMaxScaler\n",
    "from sklearn.linear_model import LinearRegression\n",
    "from sklearn.metrics import r2_score\n",
    "from sklearn.preprocessing import StandardScaler\n",
    "from sklearn.linear_model import LogisticRegression\n",
    "from sklearn import metrics\n",
    "from sklearn.naive_bayes import GaussianNB\n",
    "from sklearn.preprocessing import LabelEncoder\n",
    "from sklearn.neighbors import KNeighborsClassifier\n",
    "from sklearn.model_selection import GridSearchCV\n",
    "from sklearn.ensemble import RandomForestClassifier\n",
    "from imblearn.over_sampling import SMOTE\n",
    "from sklearn.cluster import KMeans\n",
    "from sklearn.svm import SVC\n",
    "from sklearn.neural_network import MLPClassifier\n",
    "import tensorflow as tf\n",
    "from tensorflow import keras\n",
    "from tensorflow.keras.models import Sequential\n",
    "from tensorflow.keras.layers import Dense\n",
    "from tensorflow.keras import datasets, layers, models"
   ]
  },
  {
   "cell_type": "code",
   "execution_count": 2,
   "id": "ca606dde",
   "metadata": {},
   "outputs": [],
   "source": [
    "df = pd.read_csv(\"lithium-ion-batteries.csv\")"
   ]
  },
  {
   "cell_type": "code",
   "execution_count": 3,
   "id": "64e5fd8f",
   "metadata": {},
   "outputs": [
    {
     "data": {
      "text/plain": [
       "(339, 11)"
      ]
     },
     "execution_count": 3,
     "metadata": {},
     "output_type": "execute_result"
    }
   ],
   "source": [
    "df.shape"
   ]
  },
  {
   "cell_type": "code",
   "execution_count": 4,
   "id": "f6061a59",
   "metadata": {},
   "outputs": [
    {
     "data": {
      "text/html": [
       "<div>\n",
       "<style scoped>\n",
       "    .dataframe tbody tr th:only-of-type {\n",
       "        vertical-align: middle;\n",
       "    }\n",
       "\n",
       "    .dataframe tbody tr th {\n",
       "        vertical-align: top;\n",
       "    }\n",
       "\n",
       "    .dataframe thead th {\n",
       "        text-align: right;\n",
       "    }\n",
       "</style>\n",
       "<table border=\"1\" class=\"dataframe\">\n",
       "  <thead>\n",
       "    <tr style=\"text-align: right;\">\n",
       "      <th></th>\n",
       "      <th>Materials Id</th>\n",
       "      <th>Formula</th>\n",
       "      <th>Spacegroup</th>\n",
       "      <th>Formation Energy (eV)</th>\n",
       "      <th>E Above Hull (eV)</th>\n",
       "      <th>Band Gap (eV)</th>\n",
       "      <th>Nsites</th>\n",
       "      <th>Density (gm/cc)</th>\n",
       "      <th>Volume</th>\n",
       "      <th>Has Bandstructure</th>\n",
       "      <th>Crystal System</th>\n",
       "    </tr>\n",
       "  </thead>\n",
       "  <tbody>\n",
       "    <tr>\n",
       "      <th>0</th>\n",
       "      <td>mp-849394</td>\n",
       "      <td>Li2MnSiO4</td>\n",
       "      <td>Pc</td>\n",
       "      <td>-2.699</td>\n",
       "      <td>0.006</td>\n",
       "      <td>3.462</td>\n",
       "      <td>16</td>\n",
       "      <td>2.993</td>\n",
       "      <td>178.513</td>\n",
       "      <td>True</td>\n",
       "      <td>monoclinic</td>\n",
       "    </tr>\n",
       "    <tr>\n",
       "      <th>1</th>\n",
       "      <td>mp-783909</td>\n",
       "      <td>Li2MnSiO4</td>\n",
       "      <td>P21/c</td>\n",
       "      <td>-2.696</td>\n",
       "      <td>0.008</td>\n",
       "      <td>2.879</td>\n",
       "      <td>32</td>\n",
       "      <td>2.926</td>\n",
       "      <td>365.272</td>\n",
       "      <td>True</td>\n",
       "      <td>monoclinic</td>\n",
       "    </tr>\n",
       "    <tr>\n",
       "      <th>2</th>\n",
       "      <td>mp-761311</td>\n",
       "      <td>Li4MnSi2O7</td>\n",
       "      <td>Cc</td>\n",
       "      <td>-2.775</td>\n",
       "      <td>0.012</td>\n",
       "      <td>3.653</td>\n",
       "      <td>28</td>\n",
       "      <td>2.761</td>\n",
       "      <td>301.775</td>\n",
       "      <td>True</td>\n",
       "      <td>monoclinic</td>\n",
       "    </tr>\n",
       "    <tr>\n",
       "      <th>3</th>\n",
       "      <td>mp-761598</td>\n",
       "      <td>Li4Mn2Si3O10</td>\n",
       "      <td>C2/c</td>\n",
       "      <td>-2.783</td>\n",
       "      <td>0.013</td>\n",
       "      <td>3.015</td>\n",
       "      <td>38</td>\n",
       "      <td>2.908</td>\n",
       "      <td>436.183</td>\n",
       "      <td>True</td>\n",
       "      <td>monoclinic</td>\n",
       "    </tr>\n",
       "    <tr>\n",
       "      <th>4</th>\n",
       "      <td>mp-767709</td>\n",
       "      <td>Li2Mn3Si3O10</td>\n",
       "      <td>C2/c</td>\n",
       "      <td>-2.747</td>\n",
       "      <td>0.016</td>\n",
       "      <td>2.578</td>\n",
       "      <td>36</td>\n",
       "      <td>3.334</td>\n",
       "      <td>421.286</td>\n",
       "      <td>True</td>\n",
       "      <td>monoclinic</td>\n",
       "    </tr>\n",
       "  </tbody>\n",
       "</table>\n",
       "</div>"
      ],
      "text/plain": [
       "  Materials Id       Formula Spacegroup  Formation Energy (eV)  \\\n",
       "0    mp-849394     Li2MnSiO4         Pc                 -2.699   \n",
       "1    mp-783909     Li2MnSiO4      P21/c                 -2.696   \n",
       "2    mp-761311    Li4MnSi2O7         Cc                 -2.775   \n",
       "3    mp-761598  Li4Mn2Si3O10       C2/c                 -2.783   \n",
       "4    mp-767709  Li2Mn3Si3O10       C2/c                 -2.747   \n",
       "\n",
       "   E Above Hull (eV)  Band Gap (eV)  Nsites  Density (gm/cc)   Volume  \\\n",
       "0              0.006          3.462      16            2.993  178.513   \n",
       "1              0.008          2.879      32            2.926  365.272   \n",
       "2              0.012          3.653      28            2.761  301.775   \n",
       "3              0.013          3.015      38            2.908  436.183   \n",
       "4              0.016          2.578      36            3.334  421.286   \n",
       "\n",
       "   Has Bandstructure Crystal System  \n",
       "0               True     monoclinic  \n",
       "1               True     monoclinic  \n",
       "2               True     monoclinic  \n",
       "3               True     monoclinic  \n",
       "4               True     monoclinic  "
      ]
     },
     "execution_count": 4,
     "metadata": {},
     "output_type": "execute_result"
    }
   ],
   "source": [
    "df.head()"
   ]
  },
  {
   "cell_type": "code",
   "execution_count": 5,
   "id": "e1931bf2",
   "metadata": {},
   "outputs": [
    {
     "data": {
      "text/plain": [
       "P1         72\n",
       "P21/c      32\n",
       "Pc         27\n",
       "P21        23\n",
       "Cc         16\n",
       "C2/c       15\n",
       "C2         12\n",
       "Pna21      12\n",
       "Pcmn        8\n",
       "P21nb       8\n",
       "Pnma        8\n",
       "C2/m        6\n",
       "C2221       6\n",
       "Fdd2        6\n",
       "Pbn21       6\n",
       "C2cm        6\n",
       "Pbca        6\n",
       "Cmce        6\n",
       "Pc21n       6\n",
       "P212121     6\n",
       "Pb21a       5\n",
       "Pbnm        4\n",
       "Pmnb        4\n",
       "C222        3\n",
       "P21nm       3\n",
       "Pca21       3\n",
       "Cmcm        3\n",
       "P2/m        3\n",
       "Imma        2\n",
       "F2dd        2\n",
       "P2          2\n",
       "Pmn21       2\n",
       "Pnca        2\n",
       "Pm21n       2\n",
       "P21/m       2\n",
       "Pn21a       2\n",
       "P21cn       1\n",
       "P2/c        1\n",
       "Ibmm        1\n",
       "Pnc2        1\n",
       "Icma        1\n",
       "Pmc21       1\n",
       "Imcm        1\n",
       "Ccme        1\n",
       "Name: Spacegroup, dtype: int64"
      ]
     },
     "execution_count": 5,
     "metadata": {},
     "output_type": "execute_result"
    }
   ],
   "source": [
    "df[\"Spacegroup\"].value_counts()"
   ]
  },
  {
   "cell_type": "code",
   "execution_count": 6,
   "id": "69185834",
   "metadata": {},
   "outputs": [
    {
     "data": {
      "text/plain": [
       "monoclinic      139\n",
       "orthorhombic    128\n",
       "triclinic        72\n",
       "Name: Crystal System, dtype: int64"
      ]
     },
     "execution_count": 6,
     "metadata": {},
     "output_type": "execute_result"
    }
   ],
   "source": [
    "df[\"Crystal System\"].value_counts()"
   ]
  },
  {
   "cell_type": "code",
   "execution_count": 7,
   "id": "7e7ac259",
   "metadata": {},
   "outputs": [
    {
     "name": "stdout",
     "output_type": "stream",
     "text": [
      "['Materials Id', 'Formula', 'Spacegroup', 'Formation Energy (eV)', 'E Above Hull (eV)', 'Band Gap (eV)', 'Nsites', 'Density (gm/cc)', 'Volume', 'Has Bandstructure', 'Crystal System']\n"
     ]
    }
   ],
   "source": [
    "print(df.columns.tolist())"
   ]
  },
  {
   "cell_type": "code",
   "execution_count": 8,
   "id": "d83714aa",
   "metadata": {},
   "outputs": [],
   "source": [
    "#2. Spacegroup is not balanced as the highest value is 72 compared to a low value of 1.\n",
    "# Crystal System is a little more balanced, but it may benefit from using the SMOTE function."
   ]
  },
  {
   "cell_type": "code",
   "execution_count": 9,
   "id": "ef1eecad",
   "metadata": {},
   "outputs": [
    {
     "data": {
      "text/html": [
       "<div>\n",
       "<style scoped>\n",
       "    .dataframe tbody tr th:only-of-type {\n",
       "        vertical-align: middle;\n",
       "    }\n",
       "\n",
       "    .dataframe tbody tr th {\n",
       "        vertical-align: top;\n",
       "    }\n",
       "\n",
       "    .dataframe thead th {\n",
       "        text-align: right;\n",
       "    }\n",
       "</style>\n",
       "<table border=\"1\" class=\"dataframe\">\n",
       "  <thead>\n",
       "    <tr style=\"text-align: right;\">\n",
       "      <th></th>\n",
       "      <th>Formula</th>\n",
       "      <th>Spacegroup</th>\n",
       "      <th>Formation Energy (eV)</th>\n",
       "      <th>E Above Hull (eV)</th>\n",
       "      <th>Band Gap (eV)</th>\n",
       "      <th>Nsites</th>\n",
       "      <th>Density (gm/cc)</th>\n",
       "      <th>Volume</th>\n",
       "      <th>Has Bandstructure</th>\n",
       "      <th>Crystal System</th>\n",
       "    </tr>\n",
       "  </thead>\n",
       "  <tbody>\n",
       "    <tr>\n",
       "      <th>0</th>\n",
       "      <td>Li2MnSiO4</td>\n",
       "      <td>Pc</td>\n",
       "      <td>-2.699</td>\n",
       "      <td>0.006</td>\n",
       "      <td>3.462</td>\n",
       "      <td>16</td>\n",
       "      <td>2.993</td>\n",
       "      <td>178.513</td>\n",
       "      <td>True</td>\n",
       "      <td>monoclinic</td>\n",
       "    </tr>\n",
       "    <tr>\n",
       "      <th>1</th>\n",
       "      <td>Li2MnSiO4</td>\n",
       "      <td>P21/c</td>\n",
       "      <td>-2.696</td>\n",
       "      <td>0.008</td>\n",
       "      <td>2.879</td>\n",
       "      <td>32</td>\n",
       "      <td>2.926</td>\n",
       "      <td>365.272</td>\n",
       "      <td>True</td>\n",
       "      <td>monoclinic</td>\n",
       "    </tr>\n",
       "    <tr>\n",
       "      <th>2</th>\n",
       "      <td>Li4MnSi2O7</td>\n",
       "      <td>Cc</td>\n",
       "      <td>-2.775</td>\n",
       "      <td>0.012</td>\n",
       "      <td>3.653</td>\n",
       "      <td>28</td>\n",
       "      <td>2.761</td>\n",
       "      <td>301.775</td>\n",
       "      <td>True</td>\n",
       "      <td>monoclinic</td>\n",
       "    </tr>\n",
       "    <tr>\n",
       "      <th>3</th>\n",
       "      <td>Li4Mn2Si3O10</td>\n",
       "      <td>C2/c</td>\n",
       "      <td>-2.783</td>\n",
       "      <td>0.013</td>\n",
       "      <td>3.015</td>\n",
       "      <td>38</td>\n",
       "      <td>2.908</td>\n",
       "      <td>436.183</td>\n",
       "      <td>True</td>\n",
       "      <td>monoclinic</td>\n",
       "    </tr>\n",
       "    <tr>\n",
       "      <th>4</th>\n",
       "      <td>Li2Mn3Si3O10</td>\n",
       "      <td>C2/c</td>\n",
       "      <td>-2.747</td>\n",
       "      <td>0.016</td>\n",
       "      <td>2.578</td>\n",
       "      <td>36</td>\n",
       "      <td>3.334</td>\n",
       "      <td>421.286</td>\n",
       "      <td>True</td>\n",
       "      <td>monoclinic</td>\n",
       "    </tr>\n",
       "    <tr>\n",
       "      <th>...</th>\n",
       "      <td>...</td>\n",
       "      <td>...</td>\n",
       "      <td>...</td>\n",
       "      <td>...</td>\n",
       "      <td>...</td>\n",
       "      <td>...</td>\n",
       "      <td>...</td>\n",
       "      <td>...</td>\n",
       "      <td>...</td>\n",
       "      <td>...</td>\n",
       "    </tr>\n",
       "    <tr>\n",
       "      <th>334</th>\n",
       "      <td>Li6Co(SiO4)2</td>\n",
       "      <td>P1</td>\n",
       "      <td>-2.545</td>\n",
       "      <td>0.071</td>\n",
       "      <td>2.685</td>\n",
       "      <td>17</td>\n",
       "      <td>2.753</td>\n",
       "      <td>171.772</td>\n",
       "      <td>True</td>\n",
       "      <td>triclinic</td>\n",
       "    </tr>\n",
       "    <tr>\n",
       "      <th>335</th>\n",
       "      <td>LiCo3(SiO4)2</td>\n",
       "      <td>P1</td>\n",
       "      <td>-2.250</td>\n",
       "      <td>0.076</td>\n",
       "      <td>0.005</td>\n",
       "      <td>42</td>\n",
       "      <td>3.318</td>\n",
       "      <td>552.402</td>\n",
       "      <td>True</td>\n",
       "      <td>triclinic</td>\n",
       "    </tr>\n",
       "    <tr>\n",
       "      <th>336</th>\n",
       "      <td>Li5Co4(Si3O10)2</td>\n",
       "      <td>P1</td>\n",
       "      <td>-2.529</td>\n",
       "      <td>0.082</td>\n",
       "      <td>0.176</td>\n",
       "      <td>35</td>\n",
       "      <td>2.940</td>\n",
       "      <td>428.648</td>\n",
       "      <td>True</td>\n",
       "      <td>triclinic</td>\n",
       "    </tr>\n",
       "    <tr>\n",
       "      <th>337</th>\n",
       "      <td>LiCoSiO4</td>\n",
       "      <td>P1</td>\n",
       "      <td>-2.348</td>\n",
       "      <td>0.087</td>\n",
       "      <td>1.333</td>\n",
       "      <td>14</td>\n",
       "      <td>2.451</td>\n",
       "      <td>214.044</td>\n",
       "      <td>True</td>\n",
       "      <td>triclinic</td>\n",
       "    </tr>\n",
       "    <tr>\n",
       "      <th>338</th>\n",
       "      <td>Li3Co2(SiO4)2</td>\n",
       "      <td>P1</td>\n",
       "      <td>-2.406</td>\n",
       "      <td>0.090</td>\n",
       "      <td>0.323</td>\n",
       "      <td>15</td>\n",
       "      <td>3.043</td>\n",
       "      <td>176.207</td>\n",
       "      <td>False</td>\n",
       "      <td>triclinic</td>\n",
       "    </tr>\n",
       "  </tbody>\n",
       "</table>\n",
       "<p>339 rows × 10 columns</p>\n",
       "</div>"
      ],
      "text/plain": [
       "             Formula Spacegroup  Formation Energy (eV)  E Above Hull (eV)  \\\n",
       "0          Li2MnSiO4         Pc                 -2.699              0.006   \n",
       "1          Li2MnSiO4      P21/c                 -2.696              0.008   \n",
       "2         Li4MnSi2O7         Cc                 -2.775              0.012   \n",
       "3       Li4Mn2Si3O10       C2/c                 -2.783              0.013   \n",
       "4       Li2Mn3Si3O10       C2/c                 -2.747              0.016   \n",
       "..               ...        ...                    ...                ...   \n",
       "334     Li6Co(SiO4)2         P1                 -2.545              0.071   \n",
       "335     LiCo3(SiO4)2         P1                 -2.250              0.076   \n",
       "336  Li5Co4(Si3O10)2         P1                 -2.529              0.082   \n",
       "337         LiCoSiO4         P1                 -2.348              0.087   \n",
       "338    Li3Co2(SiO4)2         P1                 -2.406              0.090   \n",
       "\n",
       "     Band Gap (eV)  Nsites  Density (gm/cc)   Volume  Has Bandstructure  \\\n",
       "0            3.462      16            2.993  178.513               True   \n",
       "1            2.879      32            2.926  365.272               True   \n",
       "2            3.653      28            2.761  301.775               True   \n",
       "3            3.015      38            2.908  436.183               True   \n",
       "4            2.578      36            3.334  421.286               True   \n",
       "..             ...     ...              ...      ...                ...   \n",
       "334          2.685      17            2.753  171.772               True   \n",
       "335          0.005      42            3.318  552.402               True   \n",
       "336          0.176      35            2.940  428.648               True   \n",
       "337          1.333      14            2.451  214.044               True   \n",
       "338          0.323      15            3.043  176.207              False   \n",
       "\n",
       "    Crystal System  \n",
       "0       monoclinic  \n",
       "1       monoclinic  \n",
       "2       monoclinic  \n",
       "3       monoclinic  \n",
       "4       monoclinic  \n",
       "..             ...  \n",
       "334      triclinic  \n",
       "335      triclinic  \n",
       "336      triclinic  \n",
       "337      triclinic  \n",
       "338      triclinic  \n",
       "\n",
       "[339 rows x 10 columns]"
      ]
     },
     "execution_count": 9,
     "metadata": {},
     "output_type": "execute_result"
    }
   ],
   "source": [
    "#3. LabelEncoder and drop Materials Id\n",
    "df.drop([\"Materials Id\"], axis = 1)\n",
    "\n",
    "# We use labelEncoder because over OneHotEncoder because it can handle categorical data which is what Spacegroup and Crystal System are."
   ]
  },
  {
   "cell_type": "code",
   "execution_count": 10,
   "id": "eea78d85",
   "metadata": {},
   "outputs": [
    {
     "ename": "KeyError",
     "evalue": "('Spacegroup', 'Crystal System')",
     "output_type": "error",
     "traceback": [
      "\u001b[1;31m---------------------------------------------------------------------------\u001b[0m",
      "\u001b[1;31mKeyError\u001b[0m                                  Traceback (most recent call last)",
      "\u001b[1;32m~\\anaconda3\\lib\\site-packages\\pandas\\core\\indexes\\base.py\u001b[0m in \u001b[0;36mget_loc\u001b[1;34m(self, key, method, tolerance)\u001b[0m\n\u001b[0;32m   3628\u001b[0m             \u001b[1;32mtry\u001b[0m\u001b[1;33m:\u001b[0m\u001b[1;33m\u001b[0m\u001b[1;33m\u001b[0m\u001b[0m\n\u001b[1;32m-> 3629\u001b[1;33m                 \u001b[1;32mreturn\u001b[0m \u001b[0mself\u001b[0m\u001b[1;33m.\u001b[0m\u001b[0m_engine\u001b[0m\u001b[1;33m.\u001b[0m\u001b[0mget_loc\u001b[0m\u001b[1;33m(\u001b[0m\u001b[0mcasted_key\u001b[0m\u001b[1;33m)\u001b[0m\u001b[1;33m\u001b[0m\u001b[1;33m\u001b[0m\u001b[0m\n\u001b[0m\u001b[0;32m   3630\u001b[0m             \u001b[1;32mexcept\u001b[0m \u001b[0mKeyError\u001b[0m \u001b[1;32mas\u001b[0m \u001b[0merr\u001b[0m\u001b[1;33m:\u001b[0m\u001b[1;33m\u001b[0m\u001b[1;33m\u001b[0m\u001b[0m\n",
      "\u001b[1;32m~\\anaconda3\\lib\\site-packages\\pandas\\_libs\\index.pyx\u001b[0m in \u001b[0;36mpandas._libs.index.IndexEngine.get_loc\u001b[1;34m()\u001b[0m\n",
      "\u001b[1;32m~\\anaconda3\\lib\\site-packages\\pandas\\_libs\\index.pyx\u001b[0m in \u001b[0;36mpandas._libs.index.IndexEngine.get_loc\u001b[1;34m()\u001b[0m\n",
      "\u001b[1;32mpandas\\_libs\\hashtable_class_helper.pxi\u001b[0m in \u001b[0;36mpandas._libs.hashtable.PyObjectHashTable.get_item\u001b[1;34m()\u001b[0m\n",
      "\u001b[1;32mpandas\\_libs\\hashtable_class_helper.pxi\u001b[0m in \u001b[0;36mpandas._libs.hashtable.PyObjectHashTable.get_item\u001b[1;34m()\u001b[0m\n",
      "\u001b[1;31mKeyError\u001b[0m: ('Spacegroup', 'Crystal System')",
      "\nThe above exception was the direct cause of the following exception:\n",
      "\u001b[1;31mKeyError\u001b[0m                                  Traceback (most recent call last)",
      "\u001b[1;32m~\\AppData\\Local\\Temp\\ipykernel_9680\\1019465846.py\u001b[0m in \u001b[0;36m<module>\u001b[1;34m\u001b[0m\n\u001b[0;32m      1\u001b[0m \u001b[0mencoder\u001b[0m \u001b[1;33m=\u001b[0m \u001b[0mLabelEncoder\u001b[0m\u001b[1;33m(\u001b[0m\u001b[1;33m)\u001b[0m\u001b[1;33m\u001b[0m\u001b[1;33m\u001b[0m\u001b[0m\n\u001b[1;32m----> 2\u001b[1;33m \u001b[0mdf\u001b[0m\u001b[1;33m[\u001b[0m\u001b[1;34m\"Spacegroup\"\u001b[0m\u001b[1;33m,\u001b[0m\u001b[1;34m\"Crystal System\"\u001b[0m\u001b[1;33m]\u001b[0m \u001b[1;33m=\u001b[0m \u001b[0mencoder\u001b[0m\u001b[1;33m.\u001b[0m\u001b[0mfit_transform\u001b[0m\u001b[1;33m(\u001b[0m\u001b[0mdf\u001b[0m\u001b[1;33m[\u001b[0m\u001b[1;34m\"Spacegroup\"\u001b[0m\u001b[1;33m,\u001b[0m\u001b[1;34m\"Crystal System\"\u001b[0m\u001b[1;33m]\u001b[0m\u001b[1;33m)\u001b[0m\u001b[1;33m\u001b[0m\u001b[1;33m\u001b[0m\u001b[0m\n\u001b[0m\u001b[0;32m      3\u001b[0m \u001b[0my\u001b[0m \u001b[1;33m=\u001b[0m \u001b[0mdf\u001b[0m\u001b[1;33m[\u001b[0m \u001b[1;34m\"Spacegroup\"\u001b[0m\u001b[1;33m,\u001b[0m\u001b[1;34m\"Crystal System\"\u001b[0m\u001b[1;33m]\u001b[0m\u001b[1;33m\u001b[0m\u001b[1;33m\u001b[0m\u001b[0m\n",
      "\u001b[1;32m~\\anaconda3\\lib\\site-packages\\pandas\\core\\frame.py\u001b[0m in \u001b[0;36m__getitem__\u001b[1;34m(self, key)\u001b[0m\n\u001b[0;32m   3503\u001b[0m             \u001b[1;32mif\u001b[0m \u001b[0mself\u001b[0m\u001b[1;33m.\u001b[0m\u001b[0mcolumns\u001b[0m\u001b[1;33m.\u001b[0m\u001b[0mnlevels\u001b[0m \u001b[1;33m>\u001b[0m \u001b[1;36m1\u001b[0m\u001b[1;33m:\u001b[0m\u001b[1;33m\u001b[0m\u001b[1;33m\u001b[0m\u001b[0m\n\u001b[0;32m   3504\u001b[0m                 \u001b[1;32mreturn\u001b[0m \u001b[0mself\u001b[0m\u001b[1;33m.\u001b[0m\u001b[0m_getitem_multilevel\u001b[0m\u001b[1;33m(\u001b[0m\u001b[0mkey\u001b[0m\u001b[1;33m)\u001b[0m\u001b[1;33m\u001b[0m\u001b[1;33m\u001b[0m\u001b[0m\n\u001b[1;32m-> 3505\u001b[1;33m             \u001b[0mindexer\u001b[0m \u001b[1;33m=\u001b[0m \u001b[0mself\u001b[0m\u001b[1;33m.\u001b[0m\u001b[0mcolumns\u001b[0m\u001b[1;33m.\u001b[0m\u001b[0mget_loc\u001b[0m\u001b[1;33m(\u001b[0m\u001b[0mkey\u001b[0m\u001b[1;33m)\u001b[0m\u001b[1;33m\u001b[0m\u001b[1;33m\u001b[0m\u001b[0m\n\u001b[0m\u001b[0;32m   3506\u001b[0m             \u001b[1;32mif\u001b[0m \u001b[0mis_integer\u001b[0m\u001b[1;33m(\u001b[0m\u001b[0mindexer\u001b[0m\u001b[1;33m)\u001b[0m\u001b[1;33m:\u001b[0m\u001b[1;33m\u001b[0m\u001b[1;33m\u001b[0m\u001b[0m\n\u001b[0;32m   3507\u001b[0m                 \u001b[0mindexer\u001b[0m \u001b[1;33m=\u001b[0m \u001b[1;33m[\u001b[0m\u001b[0mindexer\u001b[0m\u001b[1;33m]\u001b[0m\u001b[1;33m\u001b[0m\u001b[1;33m\u001b[0m\u001b[0m\n",
      "\u001b[1;32m~\\anaconda3\\lib\\site-packages\\pandas\\core\\indexes\\base.py\u001b[0m in \u001b[0;36mget_loc\u001b[1;34m(self, key, method, tolerance)\u001b[0m\n\u001b[0;32m   3629\u001b[0m                 \u001b[1;32mreturn\u001b[0m \u001b[0mself\u001b[0m\u001b[1;33m.\u001b[0m\u001b[0m_engine\u001b[0m\u001b[1;33m.\u001b[0m\u001b[0mget_loc\u001b[0m\u001b[1;33m(\u001b[0m\u001b[0mcasted_key\u001b[0m\u001b[1;33m)\u001b[0m\u001b[1;33m\u001b[0m\u001b[1;33m\u001b[0m\u001b[0m\n\u001b[0;32m   3630\u001b[0m             \u001b[1;32mexcept\u001b[0m \u001b[0mKeyError\u001b[0m \u001b[1;32mas\u001b[0m \u001b[0merr\u001b[0m\u001b[1;33m:\u001b[0m\u001b[1;33m\u001b[0m\u001b[1;33m\u001b[0m\u001b[0m\n\u001b[1;32m-> 3631\u001b[1;33m                 \u001b[1;32mraise\u001b[0m \u001b[0mKeyError\u001b[0m\u001b[1;33m(\u001b[0m\u001b[0mkey\u001b[0m\u001b[1;33m)\u001b[0m \u001b[1;32mfrom\u001b[0m \u001b[0merr\u001b[0m\u001b[1;33m\u001b[0m\u001b[1;33m\u001b[0m\u001b[0m\n\u001b[0m\u001b[0;32m   3632\u001b[0m             \u001b[1;32mexcept\u001b[0m \u001b[0mTypeError\u001b[0m\u001b[1;33m:\u001b[0m\u001b[1;33m\u001b[0m\u001b[1;33m\u001b[0m\u001b[0m\n\u001b[0;32m   3633\u001b[0m                 \u001b[1;31m# If we have a listlike key, _check_indexing_error will raise\u001b[0m\u001b[1;33m\u001b[0m\u001b[1;33m\u001b[0m\u001b[0m\n",
      "\u001b[1;31mKeyError\u001b[0m: ('Spacegroup', 'Crystal System')"
     ]
    }
   ],
   "source": [
    "encoder = LabelEncoder()\n",
    "df[\"Spacegroup\",\"Crystal System\"] = encoder.fit_transform(df[\"Spacegroup\",\"Crystal System\"])\n",
    "y = df[ \"Spacegroup\",\"Crystal System\"]"
   ]
  },
  {
   "cell_type": "code",
   "execution_count": 11,
   "id": "e96d048b",
   "metadata": {},
   "outputs": [
    {
     "data": {
      "image/png": "[encoded data removed]",
      "text/plain": [
       "<Figure size 1800x1600 with 2 Axes>"
      ]
     },
     "metadata": {},
     "output_type": "display_data"
    }
   ],
   "source": [
    "#4. Heat map\n",
    "fig = plt.figure(figsize = (18,16))\n",
    "sns.heatmap(df.corr(), annot = True)\n",
    "plt.show()\n",
    "# Most of the features are not correlated with one another with one exception."
   ]
  },
  {
   "cell_type": "markdown",
   "id": "16771f74",
   "metadata": {},
   "source": [
    "# Part 2 - Classification Models"
   ]
  },
  {
   "cell_type": "code",
   "execution_count": 18,
   "id": "bf066af8",
   "metadata": {},
   "outputs": [],
   "source": [
    "#1. Assign x inputs and 2 y outputs\n",
    "x = df.drop([\"Materials Id\", \"Formula\", \"Crystal System\", \"Spacegroup\"], axis = 1)\n",
    "y = df[\"Crystal System\"]\n",
    "y2 = df[\"Spacegroup\"]"
   ]
  },
  {
   "cell_type": "code",
   "execution_count": 19,
   "id": "691e10c5",
   "metadata": {},
   "outputs": [],
   "source": [
    "#2a. Scale, train RFC with a 20% split and predict y1 \n",
    "\n",
    "x_train, x_test, y_train, y_test = train_test_split(x, y, test_size = 0.2)\n",
    "\n",
    "scaler = MinMaxScaler()\n",
    "x_train_scaled = scaler.fit_transform(x_train)\n",
    "x_test_scaled = scaler.transform(x_test)"
   ]
  },
  {
   "cell_type": "code",
   "execution_count": 20,
   "id": "5f335f82",
   "metadata": {},
   "outputs": [
    {
     "name": "stdout",
     "output_type": "stream",
     "text": [
      "1.0\n",
      "0.6470588235294118\n",
      "[[21  4  3]\n",
      " [ 8 18  0]\n",
      " [ 6  3  5]]\n",
      "              precision    recall  f1-score   support\n",
      "\n",
      "  monoclinic       0.60      0.75      0.67        28\n",
      "orthorhombic       0.72      0.69      0.71        26\n",
      "   triclinic       0.62      0.36      0.45        14\n",
      "\n",
      "    accuracy                           0.65        68\n",
      "   macro avg       0.65      0.60      0.61        68\n",
      "weighted avg       0.65      0.65      0.64        68\n",
      "\n"
     ]
    }
   ],
   "source": [
    "rf = RandomForestClassifier(n_estimators = 400)\n",
    "rf.fit(x_train_scaled, y_train)\n",
    "\n",
    "print(rf.score(x_train_scaled, y_train))\n",
    "\n",
    "y_pred_rf = rf.predict(x_test_scaled)\n",
    "print(metrics.accuracy_score(y_test, y_pred_rf))\n",
    "\n",
    "cm = metrics.confusion_matrix(y_test, y_pred_rf)\n",
    "print(cm)\n",
    "\n",
    "results = metrics.classification_report(y_test, y_pred_rf)\n",
    "print(results)"
   ]
  },
  {
   "cell_type": "code",
   "execution_count": 21,
   "id": "f32fc3d3",
   "metadata": {},
   "outputs": [],
   "source": [
    "#2b. Spacegroup\n",
    "\n",
    "x_train, x_test, y_train, y_test = train_test_split(x, y2, test_size = 0.2)\n",
    "\n",
    "scaler = MinMaxScaler()\n",
    "x_train_scaled = scaler.fit_transform(x_train)\n",
    "x_test_scaled = scaler.transform(x_test)"
   ]
  },
  {
   "cell_type": "code",
   "execution_count": 22,
   "id": "4c41370d",
   "metadata": {},
   "outputs": [
    {
     "name": "stdout",
     "output_type": "stream",
     "text": [
      "1.0\n",
      "0.35294117647058826\n",
      "[[0 0 0 ... 0 0 0]\n",
      " [0 0 0 ... 0 0 0]\n",
      " [0 0 1 ... 0 0 0]\n",
      " ...\n",
      " [0 0 0 ... 1 0 0]\n",
      " [0 0 0 ... 0 0 0]\n",
      " [1 0 0 ... 0 0 1]]\n",
      "              precision    recall  f1-score   support\n",
      "\n",
      "          C2       0.00      0.00      0.00         2\n",
      "        C2/c       0.00      0.00      0.00         2\n",
      "        C2/m       1.00      1.00      1.00         1\n",
      "       C2221       0.00      0.00      0.00         1\n",
      "        C2cm       1.00      1.00      1.00         1\n",
      "          Cc       0.00      0.00      0.00         3\n",
      "        Cmce       0.25      1.00      0.40         1\n",
      "        Cmcm       1.00      1.00      1.00         1\n",
      "        Fdd2       1.00      1.00      1.00         1\n",
      "        Icma       0.00      0.00      0.00         1\n",
      "          P1       0.50      0.73      0.59        15\n",
      "          P2       0.00      0.00      0.00         2\n",
      "        P2/m       0.00      0.00      0.00         1\n",
      "         P21       0.00      0.00      0.00         1\n",
      "       P21/c       0.43      0.38      0.40         8\n",
      "     P212121       0.00      0.00      0.00         0\n",
      "       P21nb       0.00      0.00      0.00         3\n",
      "       P21nm       0.00      0.00      0.00         1\n",
      "       Pb21a       0.50      1.00      0.67         1\n",
      "        Pbca       0.00      0.00      0.00         1\n",
      "       Pbn21       0.00      0.00      0.00         0\n",
      "          Pc       0.25      0.20      0.22         5\n",
      "       Pc21n       0.00      0.00      0.00         1\n",
      "       Pca21       0.00      0.00      0.00         2\n",
      "        Pcmn       1.00      0.50      0.67         2\n",
      "       Pm21n       0.00      0.00      0.00         0\n",
      "       Pmc21       0.00      0.00      0.00         1\n",
      "       Pmn21       0.00      0.00      0.00         1\n",
      "        Pmnb       0.00      0.00      0.00         1\n",
      "       Pna21       1.00      0.33      0.50         3\n",
      "        Pnca       0.00      0.00      0.00         1\n",
      "        Pnma       0.50      0.25      0.33         4\n",
      "\n",
      "    accuracy                           0.35        68\n",
      "   macro avg       0.26      0.26      0.24        68\n",
      "weighted avg       0.35      0.35      0.33        68\n",
      "\n"
     ]
    },
    {
     "name": "stderr",
     "output_type": "stream",
     "text": [
      "C:\\Users\\Usama\\anaconda3\\lib\\site-packages\\sklearn\\metrics\\_classification.py:1318: UndefinedMetricWarning: Precision and F-score are ill-defined and being set to 0.0 in labels with no predicted samples. Use `zero_division` parameter to control this behavior.\n",
      "  _warn_prf(average, modifier, msg_start, len(result))\n",
      "C:\\Users\\Usama\\anaconda3\\lib\\site-packages\\sklearn\\metrics\\_classification.py:1318: UndefinedMetricWarning: Recall and F-score are ill-defined and being set to 0.0 in labels with no true samples. Use `zero_division` parameter to control this behavior.\n",
      "  _warn_prf(average, modifier, msg_start, len(result))\n",
      "C:\\Users\\Usama\\anaconda3\\lib\\site-packages\\sklearn\\metrics\\_classification.py:1318: UndefinedMetricWarning: Precision and F-score are ill-defined and being set to 0.0 in labels with no predicted samples. Use `zero_division` parameter to control this behavior.\n",
      "  _warn_prf(average, modifier, msg_start, len(result))\n",
      "C:\\Users\\Usama\\anaconda3\\lib\\site-packages\\sklearn\\metrics\\_classification.py:1318: UndefinedMetricWarning: Recall and F-score are ill-defined and being set to 0.0 in labels with no true samples. Use `zero_division` parameter to control this behavior.\n",
      "  _warn_prf(average, modifier, msg_start, len(result))\n",
      "C:\\Users\\Usama\\anaconda3\\lib\\site-packages\\sklearn\\metrics\\_classification.py:1318: UndefinedMetricWarning: Precision and F-score are ill-defined and being set to 0.0 in labels with no predicted samples. Use `zero_division` parameter to control this behavior.\n",
      "  _warn_prf(average, modifier, msg_start, len(result))\n",
      "C:\\Users\\Usama\\anaconda3\\lib\\site-packages\\sklearn\\metrics\\_classification.py:1318: UndefinedMetricWarning: Recall and F-score are ill-defined and being set to 0.0 in labels with no true samples. Use `zero_division` parameter to control this behavior.\n",
      "  _warn_prf(average, modifier, msg_start, len(result))\n"
     ]
    }
   ],
   "source": [
    "rf = RandomForestClassifier(n_estimators = 400)\n",
    "rf.fit(x_train_scaled, y_train)\n",
    "\n",
    "print(rf.score(x_train_scaled, y_train))\n",
    "\n",
    "y_pred_rf = rf.predict(x_test_scaled)\n",
    "print(metrics.accuracy_score(y_test, y_pred_rf))\n",
    "\n",
    "cm = metrics.confusion_matrix(y_test, y_pred_rf)\n",
    "print(cm)\n",
    "\n",
    "results = metrics.classification_report(y_test, y_pred_rf)\n",
    "print(results)"
   ]
  },
  {
   "cell_type": "code",
   "execution_count": 23,
   "id": "daf70c6b",
   "metadata": {},
   "outputs": [],
   "source": [
    "# The \"Crystal System\" performed better than 'Spacegroup' possibly because it was better balanced and only had three types of classifications."
   ]
  },
  {
   "cell_type": "code",
   "execution_count": 24,
   "id": "6fb2dac4",
   "metadata": {},
   "outputs": [],
   "source": [
    "#3. Import Tensor Flow and other functions"
   ]
  },
  {
   "cell_type": "code",
   "execution_count": 41,
   "id": "3e8ddb90",
   "metadata": {},
   "outputs": [],
   "source": [
    "#3a. Sequential Model Crystal System\n",
    "x_train = x_train.astype(\"float32\") / 255  # scales data between 0 and 1\n",
    "x_test = x_test.astype(\"float32\") / 255  # scales data between 0 and 1\n",
    "x_train = np.expand_dims(x_train, -1)\n",
    "x_test = np.expand_dims(x_test, -1)\n",
    "\n",
    "model = models.Sequential()\n",
    "model.add(layers.Dense(1024, activation = 'relu'))\n",
    "model.add(layers.Dense(512,  activation = 'relu'))\n",
    "model.add(layers.Dense(256,  activation = 'relu'))\n",
    "model.add(layers.Dense(128,  activation = 'relu'))\n",
    "model.add(layers.Dense(3,    activation = 'softmax')) \n",
    "\n",
    "model.compile(optimizer='adam',\n",
    "              loss='sparse_categorical_crossentropy', \n",
    "              metrics=['accuracy'])"
   ]
  },
  {
   "cell_type": "code",
   "execution_count": 38,
   "id": "2d73f302",
   "metadata": {},
   "outputs": [
    {
     "name": "stdout",
     "output_type": "stream",
     "text": [
      "Epoch 1/300\n"
     ]
    },
    {
     "ename": "UnimplementedError",
     "evalue": "Graph execution error:\n\nDetected at node 'Cast_31' defined at (most recent call last):\n    File \"C:\\Users\\Usama\\anaconda3\\lib\\runpy.py\", line 197, in _run_module_as_main\n      return _run_code(code, main_globals, None,\n    File \"C:\\Users\\Usama\\anaconda3\\lib\\runpy.py\", line 87, in _run_code\n      exec(code, run_globals)\n    File \"C:\\Users\\Usama\\anaconda3\\lib\\site-packages\\ipykernel_launcher.py\", line 17, in <module>\n      app.launch_new_instance()\n    File \"C:\\Users\\Usama\\anaconda3\\lib\\site-packages\\traitlets\\config\\application.py\", line 846, in launch_instance\n      app.start()\n    File \"C:\\Users\\Usama\\anaconda3\\lib\\site-packages\\ipykernel\\kernelapp.py\", line 712, in start\n      self.io_loop.start()\n    File \"C:\\Users\\Usama\\anaconda3\\lib\\site-packages\\tornado\\platform\\asyncio.py\", line 199, in start\n      self.asyncio_loop.run_forever()\n    File \"C:\\Users\\Usama\\anaconda3\\lib\\asyncio\\base_events.py\", line 601, in run_forever\n      self._run_once()\n    File \"C:\\Users\\Usama\\anaconda3\\lib\\asyncio\\base_events.py\", line 1905, in _run_once\n      handle._run()\n    File \"C:\\Users\\Usama\\anaconda3\\lib\\asyncio\\events.py\", line 80, in _run\n      self._context.run(self._callback, *self._args)\n    File \"C:\\Users\\Usama\\anaconda3\\lib\\site-packages\\ipykernel\\kernelbase.py\", line 510, in dispatch_queue\n      await self.process_one()\n    File \"C:\\Users\\Usama\\anaconda3\\lib\\site-packages\\ipykernel\\kernelbase.py\", line 499, in process_one\n      await dispatch(*args)\n    File \"C:\\Users\\Usama\\anaconda3\\lib\\site-packages\\ipykernel\\kernelbase.py\", line 406, in dispatch_shell\n      await result\n    File \"C:\\Users\\Usama\\anaconda3\\lib\\site-packages\\ipykernel\\kernelbase.py\", line 730, in execute_request\n      reply_content = await reply_content\n    File \"C:\\Users\\Usama\\anaconda3\\lib\\site-packages\\ipykernel\\ipkernel.py\", line 390, in do_execute\n      res = shell.run_cell(code, store_history=store_history, silent=silent)\n    File \"C:\\Users\\Usama\\anaconda3\\lib\\site-packages\\ipykernel\\zmqshell.py\", line 528, in run_cell\n      return super().run_cell(*args, **kwargs)\n    File \"C:\\Users\\Usama\\anaconda3\\lib\\site-packages\\IPython\\core\\interactiveshell.py\", line 2914, in run_cell\n      result = self._run_cell(\n    File \"C:\\Users\\Usama\\anaconda3\\lib\\site-packages\\IPython\\core\\interactiveshell.py\", line 2960, in _run_cell\n      return runner(coro)\n    File \"C:\\Users\\Usama\\anaconda3\\lib\\site-packages\\IPython\\core\\async_helpers.py\", line 78, in _pseudo_sync_runner\n      coro.send(None)\n    File \"C:\\Users\\Usama\\anaconda3\\lib\\site-packages\\IPython\\core\\interactiveshell.py\", line 3185, in run_cell_async\n      has_raised = await self.run_ast_nodes(code_ast.body, cell_name,\n    File \"C:\\Users\\Usama\\anaconda3\\lib\\site-packages\\IPython\\core\\interactiveshell.py\", line 3377, in run_ast_nodes\n      if (await self.run_code(code, result,  async_=asy)):\n    File \"C:\\Users\\Usama\\anaconda3\\lib\\site-packages\\IPython\\core\\interactiveshell.py\", line 3457, in run_code\n      exec(code_obj, self.user_global_ns, self.user_ns)\n    File \"C:\\Users\\Usama\\AppData\\Local\\Temp\\ipykernel_9680\\1337024053.py\", line 1, in <module>\n      model.fit(x_train, y_train, epochs=300)\n    File \"C:\\Users\\Usama\\anaconda3\\lib\\site-packages\\keras\\utils\\traceback_utils.py\", line 65, in error_handler\n      return fn(*args, **kwargs)\n    File \"C:\\Users\\Usama\\anaconda3\\lib\\site-packages\\keras\\engine\\training.py\", line 1685, in fit\n      tmp_logs = self.train_function(iterator)\n    File \"C:\\Users\\Usama\\anaconda3\\lib\\site-packages\\keras\\engine\\training.py\", line 1284, in train_function\n      return step_function(self, iterator)\n    File \"C:\\Users\\Usama\\anaconda3\\lib\\site-packages\\keras\\engine\\training.py\", line 1268, in step_function\n      outputs = model.distribute_strategy.run(run_step, args=(data,))\n    File \"C:\\Users\\Usama\\anaconda3\\lib\\site-packages\\keras\\engine\\training.py\", line 1249, in run_step\n      outputs = model.train_step(data)\n    File \"C:\\Users\\Usama\\anaconda3\\lib\\site-packages\\keras\\engine\\training.py\", line 1055, in train_step\n      return self.compute_metrics(x, y, y_pred, sample_weight)\n    File \"C:\\Users\\Usama\\anaconda3\\lib\\site-packages\\keras\\engine\\training.py\", line 1149, in compute_metrics\n      self.compiled_metrics.update_state(y, y_pred, sample_weight)\n    File \"C:\\Users\\Usama\\anaconda3\\lib\\site-packages\\keras\\engine\\compile_utils.py\", line 605, in update_state\n      metric_obj.update_state(y_t, y_p, sample_weight=mask)\n    File \"C:\\Users\\Usama\\anaconda3\\lib\\site-packages\\keras\\utils\\metrics_utils.py\", line 77, in decorated\n      update_op = update_state_fn(*args, **kwargs)\n    File \"C:\\Users\\Usama\\anaconda3\\lib\\site-packages\\keras\\metrics\\base_metric.py\", line 140, in update_state_fn\n      return ag_update_state(*args, **kwargs)\n    File \"C:\\Users\\Usama\\anaconda3\\lib\\site-packages\\keras\\metrics\\base_metric.py\", line 676, in update_state\n      y_true = tf.cast(y_true, self._dtype)\nNode: 'Cast_31'\nCast string to float is not supported\n\t [[{{node Cast_31}}]] [Op:__inference_train_function_7225]",
     "output_type": "error",
     "traceback": [
      "\u001b[1;31m---------------------------------------------------------------------------\u001b[0m",
      "\u001b[1;31mUnimplementedError\u001b[0m                        Traceback (most recent call last)",
      "\u001b[1;32m~\\AppData\\Local\\Temp\\ipykernel_9680\\1337024053.py\u001b[0m in \u001b[0;36m<module>\u001b[1;34m\u001b[0m\n\u001b[1;32m----> 1\u001b[1;33m \u001b[0mmodel\u001b[0m\u001b[1;33m.\u001b[0m\u001b[0mfit\u001b[0m\u001b[1;33m(\u001b[0m\u001b[0mx_train\u001b[0m\u001b[1;33m,\u001b[0m \u001b[0my_train\u001b[0m\u001b[1;33m,\u001b[0m \u001b[0mepochs\u001b[0m\u001b[1;33m=\u001b[0m\u001b[1;36m300\u001b[0m\u001b[1;33m)\u001b[0m\u001b[1;33m\u001b[0m\u001b[1;33m\u001b[0m\u001b[0m\n\u001b[0m\u001b[0;32m      2\u001b[0m \u001b[1;33m\u001b[0m\u001b[0m\n\u001b[0;32m      3\u001b[0m \u001b[0mpred\u001b[0m \u001b[1;33m=\u001b[0m \u001b[0mmodel\u001b[0m\u001b[1;33m.\u001b[0m\u001b[0mpredict\u001b[0m\u001b[1;33m(\u001b[0m\u001b[0mx_test\u001b[0m\u001b[1;33m)\u001b[0m\u001b[1;33m\u001b[0m\u001b[1;33m\u001b[0m\u001b[0m\n\u001b[0;32m      4\u001b[0m \u001b[0mval_loss\u001b[0m\u001b[1;33m,\u001b[0m \u001b[0mval_acc\u001b[0m \u001b[1;33m=\u001b[0m \u001b[0mmodel\u001b[0m\u001b[1;33m.\u001b[0m\u001b[0mevaluate\u001b[0m\u001b[1;33m(\u001b[0m\u001b[0mx_test\u001b[0m\u001b[1;33m,\u001b[0m \u001b[0my_test\u001b[0m\u001b[1;33m)\u001b[0m\u001b[1;33m\u001b[0m\u001b[1;33m\u001b[0m\u001b[0m\n\u001b[0;32m      5\u001b[0m \u001b[0mprint\u001b[0m\u001b[1;33m(\u001b[0m\u001b[0mval_loss\u001b[0m\u001b[1;33m)\u001b[0m\u001b[1;33m\u001b[0m\u001b[1;33m\u001b[0m\u001b[0m\n",
      "\u001b[1;32m~\\anaconda3\\lib\\site-packages\\keras\\utils\\traceback_utils.py\u001b[0m in \u001b[0;36merror_handler\u001b[1;34m(*args, **kwargs)\u001b[0m\n\u001b[0;32m     68\u001b[0m             \u001b[1;31m# To get the full stack trace, call:\u001b[0m\u001b[1;33m\u001b[0m\u001b[1;33m\u001b[0m\u001b[0m\n\u001b[0;32m     69\u001b[0m             \u001b[1;31m# `tf.debugging.disable_traceback_filtering()`\u001b[0m\u001b[1;33m\u001b[0m\u001b[1;33m\u001b[0m\u001b[0m\n\u001b[1;32m---> 70\u001b[1;33m             \u001b[1;32mraise\u001b[0m \u001b[0me\u001b[0m\u001b[1;33m.\u001b[0m\u001b[0mwith_traceback\u001b[0m\u001b[1;33m(\u001b[0m\u001b[0mfiltered_tb\u001b[0m\u001b[1;33m)\u001b[0m \u001b[1;32mfrom\u001b[0m \u001b[1;32mNone\u001b[0m\u001b[1;33m\u001b[0m\u001b[1;33m\u001b[0m\u001b[0m\n\u001b[0m\u001b[0;32m     71\u001b[0m         \u001b[1;32mfinally\u001b[0m\u001b[1;33m:\u001b[0m\u001b[1;33m\u001b[0m\u001b[1;33m\u001b[0m\u001b[0m\n\u001b[0;32m     72\u001b[0m             \u001b[1;32mdel\u001b[0m \u001b[0mfiltered_tb\u001b[0m\u001b[1;33m\u001b[0m\u001b[1;33m\u001b[0m\u001b[0m\n",
      "\u001b[1;32m~\\anaconda3\\lib\\site-packages\\tensorflow\\python\\eager\\execute.py\u001b[0m in \u001b[0;36mquick_execute\u001b[1;34m(op_name, num_outputs, inputs, attrs, ctx, name)\u001b[0m\n\u001b[0;32m     50\u001b[0m   \u001b[1;32mtry\u001b[0m\u001b[1;33m:\u001b[0m\u001b[1;33m\u001b[0m\u001b[1;33m\u001b[0m\u001b[0m\n\u001b[0;32m     51\u001b[0m     \u001b[0mctx\u001b[0m\u001b[1;33m.\u001b[0m\u001b[0mensure_initialized\u001b[0m\u001b[1;33m(\u001b[0m\u001b[1;33m)\u001b[0m\u001b[1;33m\u001b[0m\u001b[1;33m\u001b[0m\u001b[0m\n\u001b[1;32m---> 52\u001b[1;33m     tensors = pywrap_tfe.TFE_Py_Execute(ctx._handle, device_name, op_name,\n\u001b[0m\u001b[0;32m     53\u001b[0m                                         inputs, attrs, num_outputs)\n\u001b[0;32m     54\u001b[0m   \u001b[1;32mexcept\u001b[0m \u001b[0mcore\u001b[0m\u001b[1;33m.\u001b[0m\u001b[0m_NotOkStatusException\u001b[0m \u001b[1;32mas\u001b[0m \u001b[0me\u001b[0m\u001b[1;33m:\u001b[0m\u001b[1;33m\u001b[0m\u001b[1;33m\u001b[0m\u001b[0m\n",
      "\u001b[1;31mUnimplementedError\u001b[0m: Graph execution error:\n\nDetected at node 'Cast_31' defined at (most recent call last):\n    File \"C:\\Users\\Usama\\anaconda3\\lib\\runpy.py\", line 197, in _run_module_as_main\n      return _run_code(code, main_globals, None,\n    File \"C:\\Users\\Usama\\anaconda3\\lib\\runpy.py\", line 87, in _run_code\n      exec(code, run_globals)\n    File \"C:\\Users\\Usama\\anaconda3\\lib\\site-packages\\ipykernel_launcher.py\", line 17, in <module>\n      app.launch_new_instance()\n    File \"C:\\Users\\Usama\\anaconda3\\lib\\site-packages\\traitlets\\config\\application.py\", line 846, in launch_instance\n      app.start()\n    File \"C:\\Users\\Usama\\anaconda3\\lib\\site-packages\\ipykernel\\kernelapp.py\", line 712, in start\n      self.io_loop.start()\n    File \"C:\\Users\\Usama\\anaconda3\\lib\\site-packages\\tornado\\platform\\asyncio.py\", line 199, in start\n      self.asyncio_loop.run_forever()\n    File \"C:\\Users\\Usama\\anaconda3\\lib\\asyncio\\base_events.py\", line 601, in run_forever\n      self._run_once()\n    File \"C:\\Users\\Usama\\anaconda3\\lib\\asyncio\\base_events.py\", line 1905, in _run_once\n      handle._run()\n    File \"C:\\Users\\Usama\\anaconda3\\lib\\asyncio\\events.py\", line 80, in _run\n      self._context.run(self._callback, *self._args)\n    File \"C:\\Users\\Usama\\anaconda3\\lib\\site-packages\\ipykernel\\kernelbase.py\", line 510, in dispatch_queue\n      await self.process_one()\n    File \"C:\\Users\\Usama\\anaconda3\\lib\\site-packages\\ipykernel\\kernelbase.py\", line 499, in process_one\n      await dispatch(*args)\n    File \"C:\\Users\\Usama\\anaconda3\\lib\\site-packages\\ipykernel\\kernelbase.py\", line 406, in dispatch_shell\n      await result\n    File \"C:\\Users\\Usama\\anaconda3\\lib\\site-packages\\ipykernel\\kernelbase.py\", line 730, in execute_request\n      reply_content = await reply_content\n    File \"C:\\Users\\Usama\\anaconda3\\lib\\site-packages\\ipykernel\\ipkernel.py\", line 390, in do_execute\n      res = shell.run_cell(code, store_history=store_history, silent=silent)\n    File \"C:\\Users\\Usama\\anaconda3\\lib\\site-packages\\ipykernel\\zmqshell.py\", line 528, in run_cell\n      return super().run_cell(*args, **kwargs)\n    File \"C:\\Users\\Usama\\anaconda3\\lib\\site-packages\\IPython\\core\\interactiveshell.py\", line 2914, in run_cell\n      result = self._run_cell(\n    File \"C:\\Users\\Usama\\anaconda3\\lib\\site-packages\\IPython\\core\\interactiveshell.py\", line 2960, in _run_cell\n      return runner(coro)\n    File \"C:\\Users\\Usama\\anaconda3\\lib\\site-packages\\IPython\\core\\async_helpers.py\", line 78, in _pseudo_sync_runner\n      coro.send(None)\n    File \"C:\\Users\\Usama\\anaconda3\\lib\\site-packages\\IPython\\core\\interactiveshell.py\", line 3185, in run_cell_async\n      has_raised = await self.run_ast_nodes(code_ast.body, cell_name,\n    File \"C:\\Users\\Usama\\anaconda3\\lib\\site-packages\\IPython\\core\\interactiveshell.py\", line 3377, in run_ast_nodes\n      if (await self.run_code(code, result,  async_=asy)):\n    File \"C:\\Users\\Usama\\anaconda3\\lib\\site-packages\\IPython\\core\\interactiveshell.py\", line 3457, in run_code\n      exec(code_obj, self.user_global_ns, self.user_ns)\n    File \"C:\\Users\\Usama\\AppData\\Local\\Temp\\ipykernel_9680\\1337024053.py\", line 1, in <module>\n      model.fit(x_train, y_train, epochs=300)\n    File \"C:\\Users\\Usama\\anaconda3\\lib\\site-packages\\keras\\utils\\traceback_utils.py\", line 65, in error_handler\n      return fn(*args, **kwargs)\n    File \"C:\\Users\\Usama\\anaconda3\\lib\\site-packages\\keras\\engine\\training.py\", line 1685, in fit\n      tmp_logs = self.train_function(iterator)\n    File \"C:\\Users\\Usama\\anaconda3\\lib\\site-packages\\keras\\engine\\training.py\", line 1284, in train_function\n      return step_function(self, iterator)\n    File \"C:\\Users\\Usama\\anaconda3\\lib\\site-packages\\keras\\engine\\training.py\", line 1268, in step_function\n      outputs = model.distribute_strategy.run(run_step, args=(data,))\n    File \"C:\\Users\\Usama\\anaconda3\\lib\\site-packages\\keras\\engine\\training.py\", line 1249, in run_step\n      outputs = model.train_step(data)\n    File \"C:\\Users\\Usama\\anaconda3\\lib\\site-packages\\keras\\engine\\training.py\", line 1055, in train_step\n      return self.compute_metrics(x, y, y_pred, sample_weight)\n    File \"C:\\Users\\Usama\\anaconda3\\lib\\site-packages\\keras\\engine\\training.py\", line 1149, in compute_metrics\n      self.compiled_metrics.update_state(y, y_pred, sample_weight)\n    File \"C:\\Users\\Usama\\anaconda3\\lib\\site-packages\\keras\\engine\\compile_utils.py\", line 605, in update_state\n      metric_obj.update_state(y_t, y_p, sample_weight=mask)\n    File \"C:\\Users\\Usama\\anaconda3\\lib\\site-packages\\keras\\utils\\metrics_utils.py\", line 77, in decorated\n      update_op = update_state_fn(*args, **kwargs)\n    File \"C:\\Users\\Usama\\anaconda3\\lib\\site-packages\\keras\\metrics\\base_metric.py\", line 140, in update_state_fn\n      return ag_update_state(*args, **kwargs)\n    File \"C:\\Users\\Usama\\anaconda3\\lib\\site-packages\\keras\\metrics\\base_metric.py\", line 676, in update_state\n      y_true = tf.cast(y_true, self._dtype)\nNode: 'Cast_31'\nCast string to float is not supported\n\t [[{{node Cast_31}}]] [Op:__inference_train_function_7225]"
     ]
    }
   ],
   "source": [
    "model.fit(x_train, y_train, epochs=300)\n",
    "\n",
    "pred = model.predict(x_test)\n",
    "val_loss, val_acc = model.evaluate(x_test, y_test)  \n",
    "print(val_loss)\n",
    "print(val_acc)"
   ]
  },
  {
   "cell_type": "code",
   "execution_count": 32,
   "id": "d650e759",
   "metadata": {},
   "outputs": [],
   "source": [
    "#3b. Sequential Model for Spacegroup\n",
    "x_train = x_train.astype(\"float32\") / 255  # scales data between 0 and 1\n",
    "x_test = x_test.astype(\"float32\") / 255  # scales data between 0 and 1\n",
    "x_train = np.expand_dims(x_train, -1)\n",
    "x_test = np.expand_dims(x_test, -1)\n",
    "\n",
    "model1 = models.Sequential()\n",
    "model1.add(layers.Dense(1024, activation = 'relu'))\n",
    "model1.add(layers.Dense(512,  activation = 'relu'))\n",
    "model1.add(layers.Dense(256,  activation = 'relu'))\n",
    "model1.add(layers.Dense(128,  activation = 'relu'))\n",
    "model1.add(layers.Dense(44,   activation = 'softmax')) \n",
    "\n",
    "model1.compile(optimizer = 'adam',\n",
    "              loss = tf.keras.losses.SparseCategoricalCrossentropy(from_logits=True),\n",
    "              metrics = ['accuracy'])"
   ]
  },
  {
   "cell_type": "code",
   "execution_count": 34,
   "id": "7a1190d9",
   "metadata": {},
   "outputs": [
    {
     "name": "stdout",
     "output_type": "stream",
     "text": [
      "Epoch 1/300\n"
     ]
    },
    {
     "ename": "UnimplementedError",
     "evalue": "Graph execution error:\n\nDetected at node 'Cast_31' defined at (most recent call last):\n    File \"C:\\Users\\Usama\\anaconda3\\lib\\runpy.py\", line 197, in _run_module_as_main\n      return _run_code(code, main_globals, None,\n    File \"C:\\Users\\Usama\\anaconda3\\lib\\runpy.py\", line 87, in _run_code\n      exec(code, run_globals)\n    File \"C:\\Users\\Usama\\anaconda3\\lib\\site-packages\\ipykernel_launcher.py\", line 17, in <module>\n      app.launch_new_instance()\n    File \"C:\\Users\\Usama\\anaconda3\\lib\\site-packages\\traitlets\\config\\application.py\", line 846, in launch_instance\n      app.start()\n    File \"C:\\Users\\Usama\\anaconda3\\lib\\site-packages\\ipykernel\\kernelapp.py\", line 712, in start\n      self.io_loop.start()\n    File \"C:\\Users\\Usama\\anaconda3\\lib\\site-packages\\tornado\\platform\\asyncio.py\", line 199, in start\n      self.asyncio_loop.run_forever()\n    File \"C:\\Users\\Usama\\anaconda3\\lib\\asyncio\\base_events.py\", line 601, in run_forever\n      self._run_once()\n    File \"C:\\Users\\Usama\\anaconda3\\lib\\asyncio\\base_events.py\", line 1905, in _run_once\n      handle._run()\n    File \"C:\\Users\\Usama\\anaconda3\\lib\\asyncio\\events.py\", line 80, in _run\n      self._context.run(self._callback, *self._args)\n    File \"C:\\Users\\Usama\\anaconda3\\lib\\site-packages\\ipykernel\\kernelbase.py\", line 510, in dispatch_queue\n      await self.process_one()\n    File \"C:\\Users\\Usama\\anaconda3\\lib\\site-packages\\ipykernel\\kernelbase.py\", line 499, in process_one\n      await dispatch(*args)\n    File \"C:\\Users\\Usama\\anaconda3\\lib\\site-packages\\ipykernel\\kernelbase.py\", line 406, in dispatch_shell\n      await result\n    File \"C:\\Users\\Usama\\anaconda3\\lib\\site-packages\\ipykernel\\kernelbase.py\", line 730, in execute_request\n      reply_content = await reply_content\n    File \"C:\\Users\\Usama\\anaconda3\\lib\\site-packages\\ipykernel\\ipkernel.py\", line 390, in do_execute\n      res = shell.run_cell(code, store_history=store_history, silent=silent)\n    File \"C:\\Users\\Usama\\anaconda3\\lib\\site-packages\\ipykernel\\zmqshell.py\", line 528, in run_cell\n      return super().run_cell(*args, **kwargs)\n    File \"C:\\Users\\Usama\\anaconda3\\lib\\site-packages\\IPython\\core\\interactiveshell.py\", line 2914, in run_cell\n      result = self._run_cell(\n    File \"C:\\Users\\Usama\\anaconda3\\lib\\site-packages\\IPython\\core\\interactiveshell.py\", line 2960, in _run_cell\n      return runner(coro)\n    File \"C:\\Users\\Usama\\anaconda3\\lib\\site-packages\\IPython\\core\\async_helpers.py\", line 78, in _pseudo_sync_runner\n      coro.send(None)\n    File \"C:\\Users\\Usama\\anaconda3\\lib\\site-packages\\IPython\\core\\interactiveshell.py\", line 3185, in run_cell_async\n      has_raised = await self.run_ast_nodes(code_ast.body, cell_name,\n    File \"C:\\Users\\Usama\\anaconda3\\lib\\site-packages\\IPython\\core\\interactiveshell.py\", line 3377, in run_ast_nodes\n      if (await self.run_code(code, result,  async_=asy)):\n    File \"C:\\Users\\Usama\\anaconda3\\lib\\site-packages\\IPython\\core\\interactiveshell.py\", line 3457, in run_code\n      exec(code_obj, self.user_global_ns, self.user_ns)\n    File \"C:\\Users\\Usama\\AppData\\Local\\Temp\\ipykernel_9680\\3482147760.py\", line 1, in <module>\n      model1.fit(x_train, y_train, epochs=300)\n    File \"C:\\Users\\Usama\\anaconda3\\lib\\site-packages\\keras\\utils\\traceback_utils.py\", line 65, in error_handler\n      return fn(*args, **kwargs)\n    File \"C:\\Users\\Usama\\anaconda3\\lib\\site-packages\\keras\\engine\\training.py\", line 1685, in fit\n      tmp_logs = self.train_function(iterator)\n    File \"C:\\Users\\Usama\\anaconda3\\lib\\site-packages\\keras\\engine\\training.py\", line 1284, in train_function\n      return step_function(self, iterator)\n    File \"C:\\Users\\Usama\\anaconda3\\lib\\site-packages\\keras\\engine\\training.py\", line 1268, in step_function\n      outputs = model.distribute_strategy.run(run_step, args=(data,))\n    File \"C:\\Users\\Usama\\anaconda3\\lib\\site-packages\\keras\\engine\\training.py\", line 1249, in run_step\n      outputs = model.train_step(data)\n    File \"C:\\Users\\Usama\\anaconda3\\lib\\site-packages\\keras\\engine\\training.py\", line 1055, in train_step\n      return self.compute_metrics(x, y, y_pred, sample_weight)\n    File \"C:\\Users\\Usama\\anaconda3\\lib\\site-packages\\keras\\engine\\training.py\", line 1149, in compute_metrics\n      self.compiled_metrics.update_state(y, y_pred, sample_weight)\n    File \"C:\\Users\\Usama\\anaconda3\\lib\\site-packages\\keras\\engine\\compile_utils.py\", line 605, in update_state\n      metric_obj.update_state(y_t, y_p, sample_weight=mask)\n    File \"C:\\Users\\Usama\\anaconda3\\lib\\site-packages\\keras\\utils\\metrics_utils.py\", line 77, in decorated\n      update_op = update_state_fn(*args, **kwargs)\n    File \"C:\\Users\\Usama\\anaconda3\\lib\\site-packages\\keras\\metrics\\base_metric.py\", line 140, in update_state_fn\n      return ag_update_state(*args, **kwargs)\n    File \"C:\\Users\\Usama\\anaconda3\\lib\\site-packages\\keras\\metrics\\base_metric.py\", line 676, in update_state\n      y_true = tf.cast(y_true, self._dtype)\nNode: 'Cast_31'\nCast string to float is not supported\n\t [[{{node Cast_31}}]] [Op:__inference_train_function_3679]",
     "output_type": "error",
     "traceback": [
      "\u001b[1;31m---------------------------------------------------------------------------\u001b[0m",
      "\u001b[1;31mUnimplementedError\u001b[0m                        Traceback (most recent call last)",
      "\u001b[1;32m~\\AppData\\Local\\Temp\\ipykernel_9680\\3482147760.py\u001b[0m in \u001b[0;36m<module>\u001b[1;34m\u001b[0m\n\u001b[1;32m----> 1\u001b[1;33m \u001b[0mmodel1\u001b[0m\u001b[1;33m.\u001b[0m\u001b[0mfit\u001b[0m\u001b[1;33m(\u001b[0m\u001b[0mx_train\u001b[0m\u001b[1;33m,\u001b[0m \u001b[0my_train\u001b[0m\u001b[1;33m,\u001b[0m \u001b[0mepochs\u001b[0m\u001b[1;33m=\u001b[0m\u001b[1;36m300\u001b[0m\u001b[1;33m)\u001b[0m\u001b[1;33m\u001b[0m\u001b[1;33m\u001b[0m\u001b[0m\n\u001b[0m\u001b[0;32m      2\u001b[0m \u001b[1;33m\u001b[0m\u001b[0m\n\u001b[0;32m      3\u001b[0m \u001b[0mpred\u001b[0m \u001b[1;33m=\u001b[0m \u001b[0mmodel1\u001b[0m\u001b[1;33m.\u001b[0m\u001b[0mpredict\u001b[0m\u001b[1;33m(\u001b[0m\u001b[0mx_test\u001b[0m\u001b[1;33m)\u001b[0m\u001b[1;33m\u001b[0m\u001b[1;33m\u001b[0m\u001b[0m\n\u001b[0;32m      4\u001b[0m \u001b[0mval_loss\u001b[0m\u001b[1;33m,\u001b[0m \u001b[0mval_acc\u001b[0m \u001b[1;33m=\u001b[0m \u001b[0mmodel1\u001b[0m\u001b[1;33m.\u001b[0m\u001b[0mevaluate\u001b[0m\u001b[1;33m(\u001b[0m\u001b[0mx_test\u001b[0m\u001b[1;33m,\u001b[0m \u001b[0my_test\u001b[0m\u001b[1;33m)\u001b[0m\u001b[1;33m\u001b[0m\u001b[1;33m\u001b[0m\u001b[0m\n\u001b[0;32m      5\u001b[0m \u001b[0mprint\u001b[0m\u001b[1;33m(\u001b[0m\u001b[0mval_loss\u001b[0m\u001b[1;33m)\u001b[0m\u001b[1;33m\u001b[0m\u001b[1;33m\u001b[0m\u001b[0m\n",
      "\u001b[1;32m~\\anaconda3\\lib\\site-packages\\keras\\utils\\traceback_utils.py\u001b[0m in \u001b[0;36merror_handler\u001b[1;34m(*args, **kwargs)\u001b[0m\n\u001b[0;32m     68\u001b[0m             \u001b[1;31m# To get the full stack trace, call:\u001b[0m\u001b[1;33m\u001b[0m\u001b[1;33m\u001b[0m\u001b[0m\n\u001b[0;32m     69\u001b[0m             \u001b[1;31m# `tf.debugging.disable_traceback_filtering()`\u001b[0m\u001b[1;33m\u001b[0m\u001b[1;33m\u001b[0m\u001b[0m\n\u001b[1;32m---> 70\u001b[1;33m             \u001b[1;32mraise\u001b[0m \u001b[0me\u001b[0m\u001b[1;33m.\u001b[0m\u001b[0mwith_traceback\u001b[0m\u001b[1;33m(\u001b[0m\u001b[0mfiltered_tb\u001b[0m\u001b[1;33m)\u001b[0m \u001b[1;32mfrom\u001b[0m \u001b[1;32mNone\u001b[0m\u001b[1;33m\u001b[0m\u001b[1;33m\u001b[0m\u001b[0m\n\u001b[0m\u001b[0;32m     71\u001b[0m         \u001b[1;32mfinally\u001b[0m\u001b[1;33m:\u001b[0m\u001b[1;33m\u001b[0m\u001b[1;33m\u001b[0m\u001b[0m\n\u001b[0;32m     72\u001b[0m             \u001b[1;32mdel\u001b[0m \u001b[0mfiltered_tb\u001b[0m\u001b[1;33m\u001b[0m\u001b[1;33m\u001b[0m\u001b[0m\n",
      "\u001b[1;32m~\\anaconda3\\lib\\site-packages\\tensorflow\\python\\eager\\execute.py\u001b[0m in \u001b[0;36mquick_execute\u001b[1;34m(op_name, num_outputs, inputs, attrs, ctx, name)\u001b[0m\n\u001b[0;32m     50\u001b[0m   \u001b[1;32mtry\u001b[0m\u001b[1;33m:\u001b[0m\u001b[1;33m\u001b[0m\u001b[1;33m\u001b[0m\u001b[0m\n\u001b[0;32m     51\u001b[0m     \u001b[0mctx\u001b[0m\u001b[1;33m.\u001b[0m\u001b[0mensure_initialized\u001b[0m\u001b[1;33m(\u001b[0m\u001b[1;33m)\u001b[0m\u001b[1;33m\u001b[0m\u001b[1;33m\u001b[0m\u001b[0m\n\u001b[1;32m---> 52\u001b[1;33m     tensors = pywrap_tfe.TFE_Py_Execute(ctx._handle, device_name, op_name,\n\u001b[0m\u001b[0;32m     53\u001b[0m                                         inputs, attrs, num_outputs)\n\u001b[0;32m     54\u001b[0m   \u001b[1;32mexcept\u001b[0m \u001b[0mcore\u001b[0m\u001b[1;33m.\u001b[0m\u001b[0m_NotOkStatusException\u001b[0m \u001b[1;32mas\u001b[0m \u001b[0me\u001b[0m\u001b[1;33m:\u001b[0m\u001b[1;33m\u001b[0m\u001b[1;33m\u001b[0m\u001b[0m\n",
      "\u001b[1;31mUnimplementedError\u001b[0m: Graph execution error:\n\nDetected at node 'Cast_31' defined at (most recent call last):\n    File \"C:\\Users\\Usama\\anaconda3\\lib\\runpy.py\", line 197, in _run_module_as_main\n      return _run_code(code, main_globals, None,\n    File \"C:\\Users\\Usama\\anaconda3\\lib\\runpy.py\", line 87, in _run_code\n      exec(code, run_globals)\n    File \"C:\\Users\\Usama\\anaconda3\\lib\\site-packages\\ipykernel_launcher.py\", line 17, in <module>\n      app.launch_new_instance()\n    File \"C:\\Users\\Usama\\anaconda3\\lib\\site-packages\\traitlets\\config\\application.py\", line 846, in launch_instance\n      app.start()\n    File \"C:\\Users\\Usama\\anaconda3\\lib\\site-packages\\ipykernel\\kernelapp.py\", line 712, in start\n      self.io_loop.start()\n    File \"C:\\Users\\Usama\\anaconda3\\lib\\site-packages\\tornado\\platform\\asyncio.py\", line 199, in start\n      self.asyncio_loop.run_forever()\n    File \"C:\\Users\\Usama\\anaconda3\\lib\\asyncio\\base_events.py\", line 601, in run_forever\n      self._run_once()\n    File \"C:\\Users\\Usama\\anaconda3\\lib\\asyncio\\base_events.py\", line 1905, in _run_once\n      handle._run()\n    File \"C:\\Users\\Usama\\anaconda3\\lib\\asyncio\\events.py\", line 80, in _run\n      self._context.run(self._callback, *self._args)\n    File \"C:\\Users\\Usama\\anaconda3\\lib\\site-packages\\ipykernel\\kernelbase.py\", line 510, in dispatch_queue\n      await self.process_one()\n    File \"C:\\Users\\Usama\\anaconda3\\lib\\site-packages\\ipykernel\\kernelbase.py\", line 499, in process_one\n      await dispatch(*args)\n    File \"C:\\Users\\Usama\\anaconda3\\lib\\site-packages\\ipykernel\\kernelbase.py\", line 406, in dispatch_shell\n      await result\n    File \"C:\\Users\\Usama\\anaconda3\\lib\\site-packages\\ipykernel\\kernelbase.py\", line 730, in execute_request\n      reply_content = await reply_content\n    File \"C:\\Users\\Usama\\anaconda3\\lib\\site-packages\\ipykernel\\ipkernel.py\", line 390, in do_execute\n      res = shell.run_cell(code, store_history=store_history, silent=silent)\n    File \"C:\\Users\\Usama\\anaconda3\\lib\\site-packages\\ipykernel\\zmqshell.py\", line 528, in run_cell\n      return super().run_cell(*args, **kwargs)\n    File \"C:\\Users\\Usama\\anaconda3\\lib\\site-packages\\IPython\\core\\interactiveshell.py\", line 2914, in run_cell\n      result = self._run_cell(\n    File \"C:\\Users\\Usama\\anaconda3\\lib\\site-packages\\IPython\\core\\interactiveshell.py\", line 2960, in _run_cell\n      return runner(coro)\n    File \"C:\\Users\\Usama\\anaconda3\\lib\\site-packages\\IPython\\core\\async_helpers.py\", line 78, in _pseudo_sync_runner\n      coro.send(None)\n    File \"C:\\Users\\Usama\\anaconda3\\lib\\site-packages\\IPython\\core\\interactiveshell.py\", line 3185, in run_cell_async\n      has_raised = await self.run_ast_nodes(code_ast.body, cell_name,\n    File \"C:\\Users\\Usama\\anaconda3\\lib\\site-packages\\IPython\\core\\interactiveshell.py\", line 3377, in run_ast_nodes\n      if (await self.run_code(code, result,  async_=asy)):\n    File \"C:\\Users\\Usama\\anaconda3\\lib\\site-packages\\IPython\\core\\interactiveshell.py\", line 3457, in run_code\n      exec(code_obj, self.user_global_ns, self.user_ns)\n    File \"C:\\Users\\Usama\\AppData\\Local\\Temp\\ipykernel_9680\\3482147760.py\", line 1, in <module>\n      model1.fit(x_train, y_train, epochs=300)\n    File \"C:\\Users\\Usama\\anaconda3\\lib\\site-packages\\keras\\utils\\traceback_utils.py\", line 65, in error_handler\n      return fn(*args, **kwargs)\n    File \"C:\\Users\\Usama\\anaconda3\\lib\\site-packages\\keras\\engine\\training.py\", line 1685, in fit\n      tmp_logs = self.train_function(iterator)\n    File \"C:\\Users\\Usama\\anaconda3\\lib\\site-packages\\keras\\engine\\training.py\", line 1284, in train_function\n      return step_function(self, iterator)\n    File \"C:\\Users\\Usama\\anaconda3\\lib\\site-packages\\keras\\engine\\training.py\", line 1268, in step_function\n      outputs = model.distribute_strategy.run(run_step, args=(data,))\n    File \"C:\\Users\\Usama\\anaconda3\\lib\\site-packages\\keras\\engine\\training.py\", line 1249, in run_step\n      outputs = model.train_step(data)\n    File \"C:\\Users\\Usama\\anaconda3\\lib\\site-packages\\keras\\engine\\training.py\", line 1055, in train_step\n      return self.compute_metrics(x, y, y_pred, sample_weight)\n    File \"C:\\Users\\Usama\\anaconda3\\lib\\site-packages\\keras\\engine\\training.py\", line 1149, in compute_metrics\n      self.compiled_metrics.update_state(y, y_pred, sample_weight)\n    File \"C:\\Users\\Usama\\anaconda3\\lib\\site-packages\\keras\\engine\\compile_utils.py\", line 605, in update_state\n      metric_obj.update_state(y_t, y_p, sample_weight=mask)\n    File \"C:\\Users\\Usama\\anaconda3\\lib\\site-packages\\keras\\utils\\metrics_utils.py\", line 77, in decorated\n      update_op = update_state_fn(*args, **kwargs)\n    File \"C:\\Users\\Usama\\anaconda3\\lib\\site-packages\\keras\\metrics\\base_metric.py\", line 140, in update_state_fn\n      return ag_update_state(*args, **kwargs)\n    File \"C:\\Users\\Usama\\anaconda3\\lib\\site-packages\\keras\\metrics\\base_metric.py\", line 676, in update_state\n      y_true = tf.cast(y_true, self._dtype)\nNode: 'Cast_31'\nCast string to float is not supported\n\t [[{{node Cast_31}}]] [Op:__inference_train_function_3679]"
     ]
    }
   ],
   "source": [
    "model1.fit(x_train, y_train, epochs=300)\n",
    "\n",
    "pred = model1.predict(x_test)\n",
    "val_loss, val_acc = model1.evaluate(x_test, y_test)  \n",
    "print(val_loss)\n",
    "print(val_acc)"
   ]
  },
  {
   "cell_type": "code",
   "execution_count": null,
   "id": "7a1a180c",
   "metadata": {},
   "outputs": [],
   "source": [
    "# There was an error that I could not resolve: UnimplementedError: Graph execution error:\n",
    "# With each passing epoch, the accuracy should increase for each of the predictions.\n",
    "# I would assume both predictive models would get relatively close to a perfect accuracy score as that is the point of using Sequential models.\n",
    "# If anything then Crystal System should have a slightly better score as it was more balanced out of the two\n",
    "# We chose 500 epochs for Spacegroup due to it being extremely unbalanced."
   ]
  },
  {
   "cell_type": "code",
   "execution_count": null,
   "id": "7c13eee3",
   "metadata": {},
   "outputs": [],
   "source": [
    "#4. The RFC did a lot better prediction for Crystal System than Spacegroups\n",
    "# Sequential model would predict a lot better for Spacegropup as it has a higher epochs value and would run for a lot longer.\n",
    "# Balanced data is important when implementing RFC while it would not matter so much for Sequential models."
   ]
  }
 ],
 "metadata": {
  "kernelspec": {
   "display_name": "Python 3 (ipykernel)",
   "language": "python",
   "name": "python3"
  },
  "language_info": {
   "codemirror_mode": {
    "name": "ipython",
    "version": 3
   },
   "file_extension": ".py",
   "mimetype": "text/x-python",
   "name": "python",
   "nbconvert_exporter": "python",
   "pygments_lexer": "ipython3",
   "version": "3.9.13"
  }
 },
 "nbformat": 4,
 "nbformat_minor": 5
}
